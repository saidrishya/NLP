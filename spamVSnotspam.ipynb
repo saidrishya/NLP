{
  "nbformat": 4,
  "nbformat_minor": 0,
  "metadata": {
    "colab": {
      "name": "spamVSnotspam.ipynb",
      "provenance": []
    },
    "kernelspec": {
      "name": "python3",
      "display_name": "Python 3"
    },
    "language_info": {
      "name": "python"
    }
  },
  "cells": [
    {
      "cell_type": "markdown",
      "metadata": {
        "id": "uJJyAyao0KmI"
      },
      "source": [
        "## Without using the text data"
      ]
    },
    {
      "cell_type": "code",
      "metadata": {
        "id": "hbpboI5zuSqc"
      },
      "source": [
        "import numpy as np\n",
        "import pandas as pd\n",
        "import matplotlib.pyplot as plt\n",
        "from sklearn.model_selection import train_test_split"
      ],
      "execution_count": 1,
      "outputs": []
    },
    {
      "cell_type": "code",
      "metadata": {
        "colab": {
          "base_uri": "https://localhost:8080/"
        },
        "id": "-PnUqVlIuv59",
        "outputId": "4200d318-a44b-4d61-a447-b4e7cbab9611"
      },
      "source": [
        "data = pd.read_csv('/content/smsspamcollection.tsv', sep='\\t')\n",
        "data.head"
      ],
      "execution_count": 4,
      "outputs": [
        {
          "output_type": "execute_result",
          "data": {
            "text/plain": [
              "<bound method NDFrame.head of      label                                            message  length  punct\n",
              "0      ham  Go until jurong point, crazy.. Available only ...     111      9\n",
              "1      ham                      Ok lar... Joking wif u oni...      29      6\n",
              "2     spam  Free entry in 2 a wkly comp to win FA Cup fina...     155      6\n",
              "3      ham  U dun say so early hor... U c already then say...      49      6\n",
              "4      ham  Nah I don't think he goes to usf, he lives aro...      61      2\n",
              "...    ...                                                ...     ...    ...\n",
              "5567  spam  This is the 2nd time we have tried 2 contact u...     160      8\n",
              "5568   ham               Will ü b going to esplanade fr home?      36      1\n",
              "5569   ham  Pity, * was in mood for that. So...any other s...      57      7\n",
              "5570   ham  The guy did some bitching but I acted like i'd...     125      1\n",
              "5571   ham                         Rofl. Its true to its name      26      1\n",
              "\n",
              "[5572 rows x 4 columns]>"
            ]
          },
          "metadata": {
            "tags": []
          },
          "execution_count": 4
        }
      ]
    },
    {
      "cell_type": "code",
      "metadata": {
        "colab": {
          "base_uri": "https://localhost:8080/"
        },
        "id": "CTp93CTLuv8T",
        "outputId": "3f21b61d-9019-476a-e756-6efd05acf778"
      },
      "source": [
        "data.isnull().sum()"
      ],
      "execution_count": 5,
      "outputs": [
        {
          "output_type": "execute_result",
          "data": {
            "text/plain": [
              "label      0\n",
              "message    0\n",
              "length     0\n",
              "punct      0\n",
              "dtype: int64"
            ]
          },
          "metadata": {
            "tags": []
          },
          "execution_count": 5
        }
      ]
    },
    {
      "cell_type": "code",
      "metadata": {
        "colab": {
          "base_uri": "https://localhost:8080/"
        },
        "id": "U3grgcPtuv-8",
        "outputId": "a623ad6a-a11c-4b1e-eef1-4c90c7bef0e7"
      },
      "source": [
        "data['label'].unique()"
      ],
      "execution_count": 7,
      "outputs": [
        {
          "output_type": "execute_result",
          "data": {
            "text/plain": [
              "array(['ham', 'spam'], dtype=object)"
            ]
          },
          "metadata": {
            "tags": []
          },
          "execution_count": 7
        }
      ]
    },
    {
      "cell_type": "code",
      "metadata": {
        "colab": {
          "base_uri": "https://localhost:8080/",
          "height": 269
        },
        "id": "jDCVsGwpuwBS",
        "outputId": "1ee22fdb-7c81-40b4-cab5-dc4fd11513ae"
      },
      "source": [
        "#visualize labels with respect to the length of the text\n",
        "plt.xscale('log')\n",
        "bins = 1.15**(np.arange(0,50))\n",
        "plt.hist(data[data['label']=='ham']['length'],bins=bins,alpha=0.8)\n",
        "plt.hist(data[data['label']=='spam']['length'],bins=bins,alpha=0.8)\n",
        "plt.legend(('ham','spam'))\n",
        "plt.show()"
      ],
      "execution_count": 8,
      "outputs": [
        {
          "output_type": "display_data",
          "data": {
            "image/png": "[encoded data removed]",
            "text/plain": [
              "<Figure size 432x288 with 1 Axes>"
            ]
          },
          "metadata": {
            "tags": [],
            "needs_background": "light"
          }
        }
      ]
    },
    {
      "cell_type": "code",
      "metadata": {
        "colab": {
          "base_uri": "https://localhost:8080/",
          "height": 269
        },
        "id": "wbOrEgRfuwDv",
        "outputId": "a062282a-f526-4eff-ba29-178f69984586"
      },
      "source": [
        "#visualize labels with respect to the punctuation\n",
        "plt.xscale('log')\n",
        "bins = 1.5**(np.arange(0,15))\n",
        "plt.hist(data[data['label']=='ham']['punct'],bins=bins,alpha=0.8)\n",
        "plt.hist(data[data['label']=='spam']['punct'],bins=bins,alpha=0.8)\n",
        "plt.legend(('ham','spam'))\n",
        "plt.show()"
      ],
      "execution_count": 11,
      "outputs": [
        {
          "output_type": "display_data",
          "data": {
            "image/png": "[encoded data removed]",
            "text/plain": [
              "<Figure size 432x288 with 1 Axes>"
            ]
          },
          "metadata": {
            "tags": [],
            "needs_background": "light"
          }
        }
      ]
    },
    {
      "cell_type": "code",
      "metadata": {
        "id": "2Wrv0vhsuwGF"
      },
      "source": [
        "#create features\n",
        "\n",
        "X = data[['length', 'punct']]\n",
        "y = data['label']\n",
        "\n",
        "X_train, X_test, y_train, y_test = train_test_split(X, y, test_size=0.33, random_state=42)"
      ],
      "execution_count": 12,
      "outputs": []
    },
    {
      "cell_type": "code",
      "metadata": {
        "colab": {
          "base_uri": "https://localhost:8080/"
        },
        "id": "gLn5rtPUuwIg",
        "outputId": "7b6ff438-100d-40d4-fb75-9a401690f90e"
      },
      "source": [
        "X_train.shape"
      ],
      "execution_count": 15,
      "outputs": [
        {
          "output_type": "execute_result",
          "data": {
            "text/plain": [
              "(3733, 2)"
            ]
          },
          "metadata": {
            "tags": []
          },
          "execution_count": 15
        }
      ]
    },
    {
      "cell_type": "code",
      "metadata": {
        "colab": {
          "base_uri": "https://localhost:8080/"
        },
        "id": "6dlgDriIuwL3",
        "outputId": "0bc200cd-805b-4a65-ef6b-1dea2e3b8cfc"
      },
      "source": [
        "X_test.shape"
      ],
      "execution_count": 16,
      "outputs": [
        {
          "output_type": "execute_result",
          "data": {
            "text/plain": [
              "(1839, 2)"
            ]
          },
          "metadata": {
            "tags": []
          },
          "execution_count": 16
        }
      ]
    },
    {
      "cell_type": "code",
      "metadata": {
        "colab": {
          "base_uri": "https://localhost:8080/"
        },
        "id": "NbWtc0Zzx_PS",
        "outputId": "64439947-82f7-48ae-c601-8904ae9056aa"
      },
      "source": [
        "y_train.shape"
      ],
      "execution_count": 17,
      "outputs": [
        {
          "output_type": "execute_result",
          "data": {
            "text/plain": [
              "(3733,)"
            ]
          },
          "metadata": {
            "tags": []
          },
          "execution_count": 17
        }
      ]
    },
    {
      "cell_type": "code",
      "metadata": {
        "colab": {
          "base_uri": "https://localhost:8080/"
        },
        "id": "XvG8m4Gzx_R1",
        "outputId": "48b3eb81-6d1f-4e05-9c73-f22f4eea33e1"
      },
      "source": [
        "# fit the model\n",
        "from sklearn.linear_model import LogisticRegression\n",
        "logreg = LogisticRegression(solver='lbfgs')\n",
        "logreg.fit(X_train, y_train)"
      ],
      "execution_count": 18,
      "outputs": [
        {
          "output_type": "execute_result",
          "data": {
            "text/plain": [
              "LogisticRegression(C=1.0, class_weight=None, dual=False, fit_intercept=True,\n",
              "                   intercept_scaling=1, l1_ratio=None, max_iter=100,\n",
              "                   multi_class='auto', n_jobs=None, penalty='l2',\n",
              "                   random_state=None, solver='lbfgs', tol=0.0001, verbose=0,\n",
              "                   warm_start=False)"
            ]
          },
          "metadata": {
            "tags": []
          },
          "execution_count": 18
        }
      ]
    },
    {
      "cell_type": "code",
      "metadata": {
        "id": "04j7ISxpx_UN"
      },
      "source": [
        "y_pred = logreg.predict(X_test)"
      ],
      "execution_count": 19,
      "outputs": []
    },
    {
      "cell_type": "code",
      "metadata": {
        "colab": {
          "base_uri": "https://localhost:8080/"
        },
        "id": "XhgkNktyx_XB",
        "outputId": "bfb65197-70df-404b-a3a7-b41841a41427"
      },
      "source": [
        "from sklearn.metrics import accuracy_score, confusion_matrix\n",
        "print(accuracy_score(y_test, y_pred))\n",
        "cm = confusion_matrix(y_test, y_pred)"
      ],
      "execution_count": 20,
      "outputs": [
        {
          "output_type": "stream",
          "text": [
            "0.843936922240348\n"
          ],
          "name": "stdout"
        }
      ]
    },
    {
      "cell_type": "code",
      "metadata": {
        "colab": {
          "base_uri": "https://localhost:8080/",
          "height": 112
        },
        "id": "MsJy1--hx_ZI",
        "outputId": "552c5696-529d-4eb9-d6fa-dfa579c88553"
      },
      "source": [
        "df = pd.DataFrame(cm, index=['ham','spam'], columns=['ham','spam'])\n",
        "df"
      ],
      "execution_count": 22,
      "outputs": [
        {
          "output_type": "execute_result",
          "data": {
            "text/html": [
              "<div>\n",
              "<style scoped>\n",
              "    .dataframe tbody tr th:only-of-type {\n",
              "        vertical-align: middle;\n",
              "    }\n",
              "\n",
              "    .dataframe tbody tr th {\n",
              "        vertical-align: top;\n",
              "    }\n",
              "\n",
              "    .dataframe thead th {\n",
              "        text-align: right;\n",
              "    }\n",
              "</style>\n",
              "<table border=\"1\" class=\"dataframe\">\n",
              "  <thead>\n",
              "    <tr style=\"text-align: right;\">\n",
              "      <th></th>\n",
              "      <th>ham</th>\n",
              "      <th>spam</th>\n",
              "    </tr>\n",
              "  </thead>\n",
              "  <tbody>\n",
              "    <tr>\n",
              "      <th>ham</th>\n",
              "      <td>1547</td>\n",
              "      <td>46</td>\n",
              "    </tr>\n",
              "    <tr>\n",
              "      <th>spam</th>\n",
              "      <td>241</td>\n",
              "      <td>5</td>\n",
              "    </tr>\n",
              "  </tbody>\n",
              "</table>\n",
              "</div>"
            ],
            "text/plain": [
              "       ham  spam\n",
              "ham   1547    46\n",
              "spam   241     5"
            ]
          },
          "metadata": {
            "tags": []
          },
          "execution_count": 22
        }
      ]
    },
    {
      "cell_type": "code",
      "metadata": {
        "colab": {
          "base_uri": "https://localhost:8080/"
        },
        "id": "c8bsusBgx_d7",
        "outputId": "aad22635-d07d-4cc2-ad3e-9c816af87ad9"
      },
      "source": [
        "from sklearn.metrics import classification_report\n",
        "print(classification_report(y_test, y_pred))"
      ],
      "execution_count": 25,
      "outputs": [
        {
          "output_type": "stream",
          "text": [
            "              precision    recall  f1-score   support\n",
            "\n",
            "         ham       0.87      0.97      0.92      1593\n",
            "        spam       0.10      0.02      0.03       246\n",
            "\n",
            "    accuracy                           0.84      1839\n",
            "   macro avg       0.48      0.50      0.47      1839\n",
            "weighted avg       0.76      0.84      0.80      1839\n",
            "\n"
          ],
          "name": "stdout"
        }
      ]
    },
    {
      "cell_type": "code",
      "metadata": {
        "id": "GHg2UbPjx_it"
      },
      "source": [
        "#try a different model\n",
        "from sklearn.naive_bayes import MultinomialNB\n",
        "nb_model = MultinomialNB()\n",
        "nb_model.fit(X_train, y_train)\n",
        "\n",
        "y_pred_nb = nb_model.predict(X_test)\n"
      ],
      "execution_count": 26,
      "outputs": []
    },
    {
      "cell_type": "code",
      "metadata": {
        "colab": {
          "base_uri": "https://localhost:8080/",
          "height": 112
        },
        "id": "nIY44ZSfx_l5",
        "outputId": "33d88533-3f1c-42c6-a60a-0583b0af351c"
      },
      "source": [
        "cm = confusion_matrix(y_test, y_pred_nb)\n",
        "df = pd.DataFrame(cm, index=['ham','spam'], columns=['ham','spam'])\n",
        "df"
      ],
      "execution_count": 27,
      "outputs": [
        {
          "output_type": "execute_result",
          "data": {
            "text/html": [
              "<div>\n",
              "<style scoped>\n",
              "    .dataframe tbody tr th:only-of-type {\n",
              "        vertical-align: middle;\n",
              "    }\n",
              "\n",
              "    .dataframe tbody tr th {\n",
              "        vertical-align: top;\n",
              "    }\n",
              "\n",
              "    .dataframe thead th {\n",
              "        text-align: right;\n",
              "    }\n",
              "</style>\n",
              "<table border=\"1\" class=\"dataframe\">\n",
              "  <thead>\n",
              "    <tr style=\"text-align: right;\">\n",
              "      <th></th>\n",
              "      <th>ham</th>\n",
              "      <th>spam</th>\n",
              "    </tr>\n",
              "  </thead>\n",
              "  <tbody>\n",
              "    <tr>\n",
              "      <th>ham</th>\n",
              "      <td>1583</td>\n",
              "      <td>10</td>\n",
              "    </tr>\n",
              "    <tr>\n",
              "      <th>spam</th>\n",
              "      <td>246</td>\n",
              "      <td>0</td>\n",
              "    </tr>\n",
              "  </tbody>\n",
              "</table>\n",
              "</div>"
            ],
            "text/plain": [
              "       ham  spam\n",
              "ham   1583    10\n",
              "spam   246     0"
            ]
          },
          "metadata": {
            "tags": []
          },
          "execution_count": 27
        }
      ]
    },
    {
      "cell_type": "code",
      "metadata": {
        "colab": {
          "base_uri": "https://localhost:8080/"
        },
        "id": "T17j8vXcx_ou",
        "outputId": "7afb122a-3adb-4d91-efb1-10999878e2f1"
      },
      "source": [
        "print(accuracy_score(y_test, y_pred_nb))"
      ],
      "execution_count": 28,
      "outputs": [
        {
          "output_type": "stream",
          "text": [
            "0.8607939097335509\n"
          ],
          "name": "stdout"
        }
      ]
    },
    {
      "cell_type": "code",
      "metadata": {
        "colab": {
          "base_uri": "https://localhost:8080/"
        },
        "id": "xQ5ewc4Gx_rE",
        "outputId": "7a939e32-8ab0-4aba-a1dd-2765d96c2e51"
      },
      "source": [
        "print(classification_report(y_test, y_pred_nb))"
      ],
      "execution_count": 30,
      "outputs": [
        {
          "output_type": "stream",
          "text": [
            "              precision    recall  f1-score   support\n",
            "\n",
            "         ham       0.87      0.99      0.93      1593\n",
            "        spam       0.00      0.00      0.00       246\n",
            "\n",
            "    accuracy                           0.86      1839\n",
            "   macro avg       0.43      0.50      0.46      1839\n",
            "weighted avg       0.75      0.86      0.80      1839\n",
            "\n"
          ],
          "name": "stdout"
        }
      ]
    },
    {
      "cell_type": "code",
      "metadata": {
        "id": "Szx6QI2Qx_ta"
      },
      "source": [
        "# another model\n",
        "from sklearn.svm import SVC\n",
        "svc = SVC(gamma='auto')\n",
        "svc.fit(X_train,y_train)\n",
        "\n",
        "y_pred_svc = svc.predict(X_test)"
      ],
      "execution_count": 32,
      "outputs": []
    },
    {
      "cell_type": "code",
      "metadata": {
        "colab": {
          "base_uri": "https://localhost:8080/",
          "height": 112
        },
        "id": "BY2gScNax_vd",
        "outputId": "2378ddc8-91fc-4714-b6bc-38d041cb2e1b"
      },
      "source": [
        "cm = confusion_matrix(y_test, y_pred_svc)\n",
        "df = pd.DataFrame(cm, index=['ham','spam'], columns=['ham','spam'])\n",
        "df"
      ],
      "execution_count": 33,
      "outputs": [
        {
          "output_type": "execute_result",
          "data": {
            "text/html": [
              "<div>\n",
              "<style scoped>\n",
              "    .dataframe tbody tr th:only-of-type {\n",
              "        vertical-align: middle;\n",
              "    }\n",
              "\n",
              "    .dataframe tbody tr th {\n",
              "        vertical-align: top;\n",
              "    }\n",
              "\n",
              "    .dataframe thead th {\n",
              "        text-align: right;\n",
              "    }\n",
              "</style>\n",
              "<table border=\"1\" class=\"dataframe\">\n",
              "  <thead>\n",
              "    <tr style=\"text-align: right;\">\n",
              "      <th></th>\n",
              "      <th>ham</th>\n",
              "      <th>spam</th>\n",
              "    </tr>\n",
              "  </thead>\n",
              "  <tbody>\n",
              "    <tr>\n",
              "      <th>ham</th>\n",
              "      <td>1515</td>\n",
              "      <td>78</td>\n",
              "    </tr>\n",
              "    <tr>\n",
              "      <th>spam</th>\n",
              "      <td>131</td>\n",
              "      <td>115</td>\n",
              "    </tr>\n",
              "  </tbody>\n",
              "</table>\n",
              "</div>"
            ],
            "text/plain": [
              "       ham  spam\n",
              "ham   1515    78\n",
              "spam   131   115"
            ]
          },
          "metadata": {
            "tags": []
          },
          "execution_count": 33
        }
      ]
    },
    {
      "cell_type": "code",
      "metadata": {
        "colab": {
          "base_uri": "https://localhost:8080/"
        },
        "id": "Zkhek8Hhx_yP",
        "outputId": "d7afc29d-3d7a-46a2-e983-e6fcc6c0d3b7"
      },
      "source": [
        "print(accuracy_score(y_test, y_pred_svc))"
      ],
      "execution_count": 34,
      "outputs": [
        {
          "output_type": "stream",
          "text": [
            "0.8863512778684067\n"
          ],
          "name": "stdout"
        }
      ]
    },
    {
      "cell_type": "code",
      "metadata": {
        "colab": {
          "base_uri": "https://localhost:8080/"
        },
        "id": "_R9VxlARx_1L",
        "outputId": "8c2c447c-c279-44ff-de27-148d2c828d5b"
      },
      "source": [
        "print(classification_report(y_test, y_pred_svc))"
      ],
      "execution_count": 35,
      "outputs": [
        {
          "output_type": "stream",
          "text": [
            "              precision    recall  f1-score   support\n",
            "\n",
            "         ham       0.92      0.95      0.94      1593\n",
            "        spam       0.60      0.47      0.52       246\n",
            "\n",
            "    accuracy                           0.89      1839\n",
            "   macro avg       0.76      0.71      0.73      1839\n",
            "weighted avg       0.88      0.89      0.88      1839\n",
            "\n"
          ],
          "name": "stdout"
        }
      ]
    },
    {
      "cell_type": "markdown",
      "metadata": {
        "id": "5e9Lqif30QiX"
      },
      "source": [
        "## With using text Extraction\n",
        "In the previous code we didn't use the text messages and hence didn't get very helpful results. Therefore the text needs to go through a Vectorizer that converts them to vectors so the machine learning model can easily understand them"
      ]
    },
    {
      "cell_type": "markdown",
      "metadata": {
        "id": "5LjBJpql0Zny"
      },
      "source": [
        "### Text Extraction from scratch\n",
        "Although sklearn does this for us, this is a general implementation of how things happen in the backend. Again, sklearn does some better and efficient calculation. This is just the basic one that includes\n",
        "1. creating a vocab/dictionary for our text\n",
        "2. creating a frequency vector"
      ]
    },
    {
      "cell_type": "code",
      "metadata": {
        "colab": {
          "base_uri": "https://localhost:8080/"
        },
        "id": "2DI-3v8xx_4C",
        "outputId": "a52b6d04-6278-4e9d-d259-ac987df5fbf9"
      },
      "source": [
        "%%writefile sample1.txt\n",
        "I really think swanlake is one of the best works of Tchaikowsky"
      ],
      "execution_count": 36,
      "outputs": [
        {
          "output_type": "stream",
          "text": [
            "Writing sample1.txt\n"
          ],
          "name": "stdout"
        }
      ]
    },
    {
      "cell_type": "code",
      "metadata": {
        "colab": {
          "base_uri": "https://localhost:8080/"
        },
        "id": "88gTtoY_x_6q",
        "outputId": "560f300f-5fb3-4787-f986-cc487a3b2f08"
      },
      "source": [
        "%%writefile sample2.txt\n",
        "But I also think that swanlake being so diverse with orchestra sounds a bit too simple on a piano"
      ],
      "execution_count": 38,
      "outputs": [
        {
          "output_type": "stream",
          "text": [
            "Overwriting sample2.txt\n"
          ],
          "name": "stdout"
        }
      ]
    },
    {
      "cell_type": "markdown",
      "metadata": {
        "id": "Rc8Llnx31Lq7"
      },
      "source": [
        "### Building the vocabulary"
      ]
    },
    {
      "cell_type": "code",
      "metadata": {
        "colab": {
          "base_uri": "https://localhost:8080/"
        },
        "id": "ZZMw9wffx_9e",
        "outputId": "bf77e2d8-8bd4-47ae-eee8-7777161dae5e"
      },
      "source": [
        "# assigning a code to every word in the text file\n",
        "\n",
        "vocab = {}\n",
        "i = 1\n",
        "\n",
        "with open('/content/sample1.txt') as f:\n",
        "    x = f.read().lower().split()\n",
        "\n",
        "for word in x:\n",
        "    if word in vocab:\n",
        "        continue\n",
        "    else:\n",
        "        vocab[word]=i\n",
        "        i+=1\n",
        "\n",
        "print(vocab)\n"
      ],
      "execution_count": 40,
      "outputs": [
        {
          "output_type": "stream",
          "text": [
            "{'i': 1, 'really': 2, 'think': 3, 'swanlake': 4, 'is': 5, 'one': 6, 'of': 7, 'the': 8, 'best': 9, 'works': 10, 'tchaikowsky': 11}\n"
          ],
          "name": "stdout"
        }
      ]
    },
    {
      "cell_type": "code",
      "metadata": {
        "colab": {
          "base_uri": "https://localhost:8080/"
        },
        "id": "gTncyR7IyAAL",
        "outputId": "35bb5698-a833-4448-bbf4-ec111258a398"
      },
      "source": [
        "with open('/content/sample2.txt') as f:\n",
        "    x = f.read().lower().split()\n",
        "\n",
        "for word in x:\n",
        "    if word in vocab:\n",
        "        continue\n",
        "    else:\n",
        "        vocab[word]=i\n",
        "        i+=1\n",
        "\n",
        "print(vocab)"
      ],
      "execution_count": 41,
      "outputs": [
        {
          "output_type": "stream",
          "text": [
            "{'i': 1, 'really': 2, 'think': 3, 'swanlake': 4, 'is': 5, 'one': 6, 'of': 7, 'the': 8, 'best': 9, 'works': 10, 'tchaikowsky': 11, 'but': 12, 'also': 13, 'that': 14, 'being': 15, 'so': 16, 'diverse': 17, 'with': 18, 'orchestra': 19, 'sounds': 20, 'a': 21, 'bit': 22, 'too': 23, 'simple': 24, 'on': 25, 'piano': 26}\n"
          ],
          "name": "stdout"
        }
      ]
    },
    {
      "cell_type": "markdown",
      "metadata": {
        "id": "WORTHrk12KXy"
      },
      "source": [
        "### Feature Extraction"
      ]
    },
    {
      "cell_type": "code",
      "metadata": {
        "colab": {
          "base_uri": "https://localhost:8080/"
        },
        "id": "rHaxRWi0yADP",
        "outputId": "87e08e0b-103d-4d83-a2de-dbe7a1be8192"
      },
      "source": [
        "#create an empty vector for each word in the dictionary\n",
        "fileone = ['/content/sample1.txt']+[0]*len(vocab)\n",
        "fileone"
      ],
      "execution_count": 43,
      "outputs": [
        {
          "output_type": "execute_result",
          "data": {
            "text/plain": [
              "['/content/sample1.txt',\n",
              " 0,\n",
              " 0,\n",
              " 0,\n",
              " 0,\n",
              " 0,\n",
              " 0,\n",
              " 0,\n",
              " 0,\n",
              " 0,\n",
              " 0,\n",
              " 0,\n",
              " 0,\n",
              " 0,\n",
              " 0,\n",
              " 0,\n",
              " 0,\n",
              " 0,\n",
              " 0,\n",
              " 0,\n",
              " 0,\n",
              " 0,\n",
              " 0,\n",
              " 0,\n",
              " 0,\n",
              " 0,\n",
              " 0]"
            ]
          },
          "metadata": {
            "tags": []
          },
          "execution_count": 43
        }
      ]
    },
    {
      "cell_type": "code",
      "metadata": {
        "colab": {
          "base_uri": "https://localhost:8080/"
        },
        "id": "gzabvYCCyAF-",
        "outputId": "8aa205f0-afad-442e-b5be-557be5ffd035"
      },
      "source": [
        "# map the frequencies of each word in sample1.txt to our vector:\n",
        "with open('/content/sample1.txt') as f:\n",
        "    x = f.read().lower().split()\n",
        "    \n",
        "for word in x:\n",
        "    fileone[vocab[word]]+=1\n",
        "    \n",
        "fileone"
      ],
      "execution_count": 44,
      "outputs": [
        {
          "output_type": "execute_result",
          "data": {
            "text/plain": [
              "['/content/sample1.txt',\n",
              " 1,\n",
              " 1,\n",
              " 1,\n",
              " 1,\n",
              " 1,\n",
              " 1,\n",
              " 2,\n",
              " 1,\n",
              " 1,\n",
              " 1,\n",
              " 1,\n",
              " 0,\n",
              " 0,\n",
              " 0,\n",
              " 0,\n",
              " 0,\n",
              " 0,\n",
              " 0,\n",
              " 0,\n",
              " 0,\n",
              " 0,\n",
              " 0,\n",
              " 0,\n",
              " 0,\n",
              " 0,\n",
              " 0]"
            ]
          },
          "metadata": {
            "tags": []
          },
          "execution_count": 44
        }
      ]
    },
    {
      "cell_type": "code",
      "metadata": {
        "colab": {
          "base_uri": "https://localhost:8080/"
        },
        "id": "HdhDsC0nyAIR",
        "outputId": "7ec26a6f-bebf-4e3e-9684-319593a56ce4"
      },
      "source": [
        "# do the same for the second doc\n",
        "filetwo = ['/content/sample2.txt']+[0]*len(vocab)\n",
        "\n",
        "with open('/content/sample2.txt') as f:\n",
        "    x = f.read().lower().split()\n",
        "    \n",
        "for word in x:\n",
        "    filetwo[vocab[word]]+=1\n",
        "\n",
        "filetwo"
      ],
      "execution_count": 46,
      "outputs": [
        {
          "output_type": "execute_result",
          "data": {
            "text/plain": [
              "['/content/sample2.txt',\n",
              " 1,\n",
              " 0,\n",
              " 1,\n",
              " 1,\n",
              " 0,\n",
              " 0,\n",
              " 0,\n",
              " 0,\n",
              " 0,\n",
              " 0,\n",
              " 0,\n",
              " 1,\n",
              " 1,\n",
              " 1,\n",
              " 1,\n",
              " 1,\n",
              " 1,\n",
              " 1,\n",
              " 1,\n",
              " 1,\n",
              " 2,\n",
              " 1,\n",
              " 1,\n",
              " 1,\n",
              " 1,\n",
              " 1]"
            ]
          },
          "metadata": {
            "tags": []
          },
          "execution_count": 46
        }
      ]
    },
    {
      "cell_type": "code",
      "metadata": {
        "colab": {
          "base_uri": "https://localhost:8080/"
        },
        "id": "BXV1SroT2lWY",
        "outputId": "8d8eeb02-3f9b-46ca-e306-2706c94c3066"
      },
      "source": [
        "# compare the two vectors\n",
        "print(f'{fileone}\\n{filetwo}')"
      ],
      "execution_count": 47,
      "outputs": [
        {
          "output_type": "stream",
          "text": [
            "['/content/sample1.txt', 1, 1, 1, 1, 1, 1, 2, 1, 1, 1, 1, 0, 0, 0, 0, 0, 0, 0, 0, 0, 0, 0, 0, 0, 0, 0]\n",
            "['/content/sample2.txt', 1, 0, 1, 1, 0, 0, 0, 0, 0, 0, 0, 1, 1, 1, 1, 1, 1, 1, 1, 1, 2, 1, 1, 1, 1, 1]\n"
          ],
          "name": "stdout"
        }
      ]
    },
    {
      "cell_type": "markdown",
      "metadata": {
        "id": "QFsaQEsG35bC"
      },
      "source": [
        "## Using sklearn"
      ]
    },
    {
      "cell_type": "code",
      "metadata": {
        "id": "1NoKO-tM2lYv"
      },
      "source": [
        "X = data['message']\n",
        "y = data['label']"
      ],
      "execution_count": 48,
      "outputs": []
    },
    {
      "cell_type": "code",
      "metadata": {
        "id": "gPEgf04j2lbF"
      },
      "source": [
        "X_train, X_test, y_train, y_test = train_test_split(X, y, test_size=0.33, random_state=42)"
      ],
      "execution_count": 49,
      "outputs": []
    },
    {
      "cell_type": "code",
      "metadata": {
        "colab": {
          "base_uri": "https://localhost:8080/"
        },
        "id": "QVGb8HHn2ldf",
        "outputId": "3bb1a60c-fa6d-4b9d-ff0d-d94359809064"
      },
      "source": [
        "from sklearn.feature_extraction.text import CountVectorizer\n",
        "count_vect = CountVectorizer()\n",
        "\n",
        "X_train_counts = count_vect.fit_transform(X_train)\n",
        "X_train_counts.shape"
      ],
      "execution_count": 50,
      "outputs": [
        {
          "output_type": "execute_result",
          "data": {
            "text/plain": [
              "(3733, 7082)"
            ]
          },
          "metadata": {
            "tags": []
          },
          "execution_count": 50
        }
      ]
    },
    {
      "cell_type": "code",
      "metadata": {
        "colab": {
          "base_uri": "https://localhost:8080/"
        },
        "id": "bsiVR5Ps2lgC",
        "outputId": "26dfc8f8-0e81-48aa-8ef7-a554c7ffc3b5"
      },
      "source": [
        "#using tfidf fits an estimator to the data and then transforms our count-matrix to a tf-idf representation.\n",
        "from sklearn.feature_extraction.text import TfidfTransformer\n",
        "tfidf_transformer = TfidfTransformer()\n",
        "\n",
        "X_train_tfidf = tfidf_transformer.fit_transform(X_train_counts)\n",
        "X_train_tfidf.shape"
      ],
      "execution_count": 52,
      "outputs": [
        {
          "output_type": "execute_result",
          "data": {
            "text/plain": [
              "(3733, 7082)"
            ]
          },
          "metadata": {
            "tags": []
          },
          "execution_count": 52
        }
      ]
    },
    {
      "cell_type": "code",
      "metadata": {
        "colab": {
          "base_uri": "https://localhost:8080/"
        },
        "id": "pp3Ae2JP2li7",
        "outputId": "f4b3e540-b5d8-4d56-d65e-6527b5ad445c"
      },
      "source": [
        "from sklearn.feature_extraction.text import TfidfVectorizer\n",
        "vectorizer = TfidfVectorizer()\n",
        "\n",
        "X_train_tfidf = vectorizer.fit_transform(X_train)\n",
        "X_train_tfidf.shape"
      ],
      "execution_count": 53,
      "outputs": [
        {
          "output_type": "execute_result",
          "data": {
            "text/plain": [
              "(3733, 7082)"
            ]
          },
          "metadata": {
            "tags": []
          },
          "execution_count": 53
        }
      ]
    },
    {
      "cell_type": "code",
      "metadata": {
        "colab": {
          "base_uri": "https://localhost:8080/"
        },
        "id": "bnrNtJBP2lko",
        "outputId": "ac2438be-2009-4fbf-f560-9760badd0a3d"
      },
      "source": [
        "#train classifier\n",
        "from sklearn.svm import LinearSVC\n",
        "clf = LinearSVC()\n",
        "clf.fit(X_train_tfidf,y_train)"
      ],
      "execution_count": 54,
      "outputs": [
        {
          "output_type": "execute_result",
          "data": {
            "text/plain": [
              "LinearSVC(C=1.0, class_weight=None, dual=True, fit_intercept=True,\n",
              "          intercept_scaling=1, loss='squared_hinge', max_iter=1000,\n",
              "          multi_class='ovr', penalty='l2', random_state=None, tol=0.0001,\n",
              "          verbose=0)"
            ]
          },
          "metadata": {
            "tags": []
          },
          "execution_count": 54
        }
      ]
    },
    {
      "cell_type": "code",
      "metadata": {
        "colab": {
          "base_uri": "https://localhost:8080/"
        },
        "id": "kiFK2FcM2lnC",
        "outputId": "bb3b4716-8df9-427b-be9d-c10098898f22"
      },
      "source": [
        "# rather than doing all the above steps from train and test split seperately, they can be done in a pipeline\n",
        "from sklearn.pipeline import Pipeline\n",
        "text_clf = Pipeline([('tfidf', TfidfVectorizer()),\n",
        "                     ('clf', LinearSVC()),\n",
        "])\n",
        "\n",
        "# Feed the training data through the pipeline\n",
        "text_clf.fit(X_train, y_train)  "
      ],
      "execution_count": 55,
      "outputs": [
        {
          "output_type": "execute_result",
          "data": {
            "text/plain": [
              "Pipeline(memory=None,\n",
              "         steps=[('tfidf',\n",
              "                 TfidfVectorizer(analyzer='word', binary=False,\n",
              "                                 decode_error='strict',\n",
              "                                 dtype=<class 'numpy.float64'>,\n",
              "                                 encoding='utf-8', input='content',\n",
              "                                 lowercase=True, max_df=1.0, max_features=None,\n",
              "                                 min_df=1, ngram_range=(1, 1), norm='l2',\n",
              "                                 preprocessor=None, smooth_idf=True,\n",
              "                                 stop_words=None, strip_accents=None,\n",
              "                                 sublinear_tf=False,\n",
              "                                 token_pattern='(?u)\\\\b\\\\w\\\\w+\\\\b',\n",
              "                                 tokenizer=None, use_idf=True,\n",
              "                                 vocabulary=None)),\n",
              "                ('clf',\n",
              "                 LinearSVC(C=1.0, class_weight=None, dual=True,\n",
              "                           fit_intercept=True, intercept_scaling=1,\n",
              "                           loss='squared_hinge', max_iter=1000,\n",
              "                           multi_class='ovr', penalty='l2', random_state=None,\n",
              "                           tol=0.0001, verbose=0))],\n",
              "         verbose=False)"
            ]
          },
          "metadata": {
            "tags": []
          },
          "execution_count": 55
        }
      ]
    },
    {
      "cell_type": "code",
      "metadata": {
        "id": "RK1wyYkP2lpX"
      },
      "source": [
        "y_pred = text_clf.predict(X_test)"
      ],
      "execution_count": 56,
      "outputs": []
    },
    {
      "cell_type": "code",
      "metadata": {
        "colab": {
          "base_uri": "https://localhost:8080/"
        },
        "id": "qfpgn2232lr4",
        "outputId": "448829eb-850b-4863-f32b-67eb4b9f8c13"
      },
      "source": [
        "print(confusion_matrix(y_test,y_pred))"
      ],
      "execution_count": 58,
      "outputs": [
        {
          "output_type": "stream",
          "text": [
            "[[1586    7]\n",
            " [  12  234]]\n"
          ],
          "name": "stdout"
        }
      ]
    },
    {
      "cell_type": "code",
      "metadata": {
        "colab": {
          "base_uri": "https://localhost:8080/"
        },
        "id": "ao4-nxT92luL",
        "outputId": "56b7e5a9-3eb7-4a6a-b893-66fb31788eee"
      },
      "source": [
        "print(classification_report(y_test,y_pred))"
      ],
      "execution_count": 59,
      "outputs": [
        {
          "output_type": "stream",
          "text": [
            "              precision    recall  f1-score   support\n",
            "\n",
            "         ham       0.99      1.00      0.99      1593\n",
            "        spam       0.97      0.95      0.96       246\n",
            "\n",
            "    accuracy                           0.99      1839\n",
            "   macro avg       0.98      0.97      0.98      1839\n",
            "weighted avg       0.99      0.99      0.99      1839\n",
            "\n"
          ],
          "name": "stdout"
        }
      ]
    },
    {
      "cell_type": "code",
      "metadata": {
        "colab": {
          "base_uri": "https://localhost:8080/"
        },
        "id": "viGE_epa2lwD",
        "outputId": "b85e2f74-2e4f-494e-e56e-f7729e1687f1"
      },
      "source": [
        "print(accuracy_score(y_test,y_pred))"
      ],
      "execution_count": 60,
      "outputs": [
        {
          "output_type": "stream",
          "text": [
            "0.989668297988037\n"
          ],
          "name": "stdout"
        }
      ]
    },
    {
      "cell_type": "code",
      "metadata": {
        "id": "FIGjZKWl2lzx"
      },
      "source": [
        ""
      ],
      "execution_count": null,
      "outputs": []
    },
    {
      "cell_type": "code",
      "metadata": {
        "id": "SieUfPNgyAL6"
      },
      "source": [
        ""
      ],
      "execution_count": null,
      "outputs": []
    },
    {
      "cell_type": "markdown",
      "metadata": {
        "id": "X8A1pJOauX3o"
      },
      "source": [
        ""
      ]
    }
  ]
}