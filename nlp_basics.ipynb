{
  "nbformat": 4,
  "nbformat_minor": 0,
  "metadata": {
    "colab": {
      "name": "nlp_basics.ipynb",
      "provenance": []
    },
    "kernelspec": {
      "name": "python3",
      "display_name": "Python 3"
    },
    "language_info": {
      "name": "python"
    }
  },
  "cells": [
    {
      "cell_type": "markdown",
      "metadata": {
        "id": "jvC5Qx9NsIbu"
      },
      "source": [
        "# Spacy basics"
      ]
    },
    {
      "cell_type": "markdown",
      "metadata": {
        "id": "8PqUhj_p1o9e"
      },
      "source": [
        "## Tokenizers"
      ]
    },
    {
      "cell_type": "code",
      "metadata": {
        "id": "UvhoET1G99ye"
      },
      "source": [
        "import spacy"
      ],
      "execution_count": 121,
      "outputs": []
    },
    {
      "cell_type": "code",
      "metadata": {
        "id": "LJ0Ll2sbgenN"
      },
      "source": [
        "nlp = spacy.load('en_core_web_sm')"
      ],
      "execution_count": 122,
      "outputs": []
    },
    {
      "cell_type": "code",
      "metadata": {
        "colab": {
          "base_uri": "https://localhost:8080/"
        },
        "id": "3RolQrj3ghMY",
        "outputId": "10260163-7a05-47da-99ba-53bcb5bcffaf"
      },
      "source": [
        "doc = nlp(u'Tesla is looking at buying U.S. startup for $6 million')\n",
        "for token in doc:\n",
        "  print(token.text, token.pos, token.pos_)"
      ],
      "execution_count": 123,
      "outputs": [
        {
          "output_type": "stream",
          "text": [
            "Tesla 96 PROPN\n",
            "is 87 AUX\n",
            "looking 100 VERB\n",
            "at 85 ADP\n",
            "buying 100 VERB\n",
            "U.S. 96 PROPN\n",
            "startup 92 NOUN\n",
            "for 85 ADP\n",
            "$ 99 SYM\n",
            "6 93 NUM\n",
            "million 93 NUM\n"
          ],
          "name": "stdout"
        }
      ]
    },
    {
      "cell_type": "code",
      "metadata": {
        "colab": {
          "base_uri": "https://localhost:8080/"
        },
        "id": "NIklf43qpjD-",
        "outputId": "e44709d2-b5e3-4048-83ab-b4094bf46960"
      },
      "source": [
        "nlp.pipeline"
      ],
      "execution_count": 124,
      "outputs": [
        {
          "output_type": "execute_result",
          "data": {
            "text/plain": [
              "[('tagger', <spacy.pipeline.pipes.Tagger at 0x7ff28b472410>),\n",
              " ('parser', <spacy.pipeline.pipes.DependencyParser at 0x7ff28a87c3d0>),\n",
              " ('ner', <spacy.pipeline.pipes.EntityRecognizer at 0x7ff289790980>)]"
            ]
          },
          "metadata": {
            "tags": []
          },
          "execution_count": 124
        }
      ]
    },
    {
      "cell_type": "code",
      "metadata": {
        "colab": {
          "base_uri": "https://localhost:8080/"
        },
        "id": "aGknLyaNpjGj",
        "outputId": "3ed0fb8b-e9c8-4ffb-d716-f675b9b9da3d"
      },
      "source": [
        "#name entity recogniser\n",
        "nlp.pipe_names"
      ],
      "execution_count": 125,
      "outputs": [
        {
          "output_type": "execute_result",
          "data": {
            "text/plain": [
              "['tagger', 'parser', 'ner']"
            ]
          },
          "metadata": {
            "tags": []
          },
          "execution_count": 125
        }
      ]
    },
    {
      "cell_type": "code",
      "metadata": {
        "colab": {
          "base_uri": "https://localhost:8080/"
        },
        "id": "83Z5ltbUpjJD",
        "outputId": "ab63bdce-be8a-434c-a02f-07ff9c8140bb"
      },
      "source": [
        "doc2 = nlp(u\"Tesla isn't looking into startups anymore\" )\n",
        "#u-unicode string\n",
        "for token in doc2:\n",
        "  print(token.text, token.pos_, token.dep_)"
      ],
      "execution_count": 126,
      "outputs": [
        {
          "output_type": "stream",
          "text": [
            "Tesla PROPN nsubj\n",
            "is AUX aux\n",
            "n't PART neg\n",
            "looking VERB ROOT\n",
            "into ADP prep\n",
            "startups NOUN pobj\n",
            "anymore ADV advmod\n"
          ],
          "name": "stdout"
        }
      ]
    },
    {
      "cell_type": "code",
      "metadata": {
        "colab": {
          "base_uri": "https://localhost:8080/",
          "height": 35
        },
        "id": "nwIDYDL1pjLq",
        "outputId": "6aafca4a-b8e0-46d4-d356-f8ed97424860"
      },
      "source": [
        "spacy.explain('advmod')"
      ],
      "execution_count": 127,
      "outputs": [
        {
          "output_type": "execute_result",
          "data": {
            "application/vnd.google.colaboratory.intrinsic+json": {
              "type": "string"
            },
            "text/plain": [
              "'adverbial modifier'"
            ]
          },
          "metadata": {
            "tags": []
          },
          "execution_count": 127
        }
      ]
    },
    {
      "cell_type": "code",
      "metadata": {
        "colab": {
          "base_uri": "https://localhost:8080/",
          "height": 35
        },
        "id": "bhEPqlL8pjN1",
        "outputId": "66f69b96-c595-44f6-a416-96e2b0404dca"
      },
      "source": [
        "spacy.explain('pobj')"
      ],
      "execution_count": 128,
      "outputs": [
        {
          "output_type": "execute_result",
          "data": {
            "application/vnd.google.colaboratory.intrinsic+json": {
              "type": "string"
            },
            "text/plain": [
              "'object of preposition'"
            ]
          },
          "metadata": {
            "tags": []
          },
          "execution_count": 128
        }
      ]
    },
    {
      "cell_type": "code",
      "metadata": {
        "id": "xXxAYF_mpjQY"
      },
      "source": [
        "doc3 = nlp(u'Although commmonly attributed to John Lennon from his song \"Beautiful Boy\", \\\n",
        "the phrase \"Life is what happens to us while we are making other plans\" was written by \\\n",
        "cartoonist Allen Saunders and published in Reader\\'s Digest in 1957, when Lennon was 17.')"
      ],
      "execution_count": 129,
      "outputs": []
    },
    {
      "cell_type": "code",
      "metadata": {
        "colab": {
          "base_uri": "https://localhost:8080/"
        },
        "id": "IdaDlcSqpjS5",
        "outputId": "370715c1-c247-4adb-dcf0-773513c85e4c"
      },
      "source": [
        "quote = doc3[16: 30]\n",
        "print(quote)"
      ],
      "execution_count": 130,
      "outputs": [
        {
          "output_type": "stream",
          "text": [
            "\"Life is what happens to us while we are making other plans\"\n"
          ],
          "name": "stdout"
        }
      ]
    },
    {
      "cell_type": "code",
      "metadata": {
        "colab": {
          "base_uri": "https://localhost:8080/"
        },
        "id": "BVGRV9-Zpja8",
        "outputId": "018928aa-2ddd-4279-8fb9-6d5b7e0629f8"
      },
      "source": [
        "print(doc3[5].is_sent_start)"
      ],
      "execution_count": 131,
      "outputs": [
        {
          "output_type": "stream",
          "text": [
            "None\n"
          ],
          "name": "stdout"
        }
      ]
    },
    {
      "cell_type": "code",
      "metadata": {
        "colab": {
          "base_uri": "https://localhost:8080/"
        },
        "id": "MSHScCvkpjV5",
        "outputId": "ac4f0927-2e39-4b81-be96-4613bb5dd44f"
      },
      "source": [
        "type(quote)"
      ],
      "execution_count": 132,
      "outputs": [
        {
          "output_type": "execute_result",
          "data": {
            "text/plain": [
              "spacy.tokens.span.Span"
            ]
          },
          "metadata": {
            "tags": []
          },
          "execution_count": 132
        }
      ]
    },
    {
      "cell_type": "code",
      "metadata": {
        "colab": {
          "base_uri": "https://localhost:8080/"
        },
        "id": "IFMt0k7cpjYG",
        "outputId": "99aa744d-3f95-4425-f018-d79f9f101085"
      },
      "source": [
        "doc4 = nlp(u'Sentence 1. Sentence 2. Sentence 3')\n",
        "for sentence in doc4.sents:\n",
        "  print(sentence)"
      ],
      "execution_count": 133,
      "outputs": [
        {
          "output_type": "stream",
          "text": [
            "Sentence 1.\n",
            "Sentence 2.\n",
            "Sentence 3\n"
          ],
          "name": "stdout"
        }
      ]
    },
    {
      "cell_type": "code",
      "metadata": {
        "colab": {
          "base_uri": "https://localhost:8080/"
        },
        "id": "IRjlLPPVpjdt",
        "outputId": "6cfcf129-b500-49d6-f00c-dc128f1a1b6b"
      },
      "source": [
        "doc5 = nlp(u'This will be complex. So if any doubts, email us at sara123@gmail.com and visit us at https://sara123.com')\n",
        "doc5"
      ],
      "execution_count": 134,
      "outputs": [
        {
          "output_type": "execute_result",
          "data": {
            "text/plain": [
              "This will be complex. So if any doubts, email us at sara123@gmail.com and visit us at https://sara123.com"
            ]
          },
          "metadata": {
            "tags": []
          },
          "execution_count": 134
        }
      ]
    },
    {
      "cell_type": "code",
      "metadata": {
        "colab": {
          "base_uri": "https://localhost:8080/"
        },
        "id": "F7hqwiKYpjgU",
        "outputId": "d8516655-3484-40a4-a059-9a017d0132fc"
      },
      "source": [
        "for token in doc5:\n",
        "  print(token.text)"
      ],
      "execution_count": 135,
      "outputs": [
        {
          "output_type": "stream",
          "text": [
            "This\n",
            "will\n",
            "be\n",
            "complex\n",
            ".\n",
            "So\n",
            "if\n",
            "any\n",
            "doubts\n",
            ",\n",
            "email\n",
            "us\n",
            "at\n",
            "sara123@gmail.com\n",
            "and\n",
            "visit\n",
            "us\n",
            "at\n",
            "https://sara123.com\n"
          ],
          "name": "stdout"
        }
      ]
    },
    {
      "cell_type": "code",
      "metadata": {
        "id": "Agf7j0y6pjjQ"
      },
      "source": [
        "#doc4[2] ='Mark me'"
      ],
      "execution_count": 136,
      "outputs": []
    },
    {
      "cell_type": "code",
      "metadata": {
        "colab": {
          "base_uri": "https://localhost:8080/"
        },
        "id": "cB5CnMQ8pjl2",
        "outputId": "c494ba36-6206-4e07-8d7a-b7c24ce5b215"
      },
      "source": [
        "doc6 = nlp(u'Apple to build a Hong Kong factory for $10 million')\n",
        "for entity in doc6.ents:\n",
        "  print(entity)\n",
        "  print(entity.label_)\n",
        "  print()"
      ],
      "execution_count": 137,
      "outputs": [
        {
          "output_type": "stream",
          "text": [
            "Apple\n",
            "ORG\n",
            "\n",
            "Hong Kong\n",
            "GPE\n",
            "\n",
            "$10 million\n",
            "MONEY\n",
            "\n"
          ],
          "name": "stdout"
        }
      ]
    },
    {
      "cell_type": "code",
      "metadata": {
        "colab": {
          "base_uri": "https://localhost:8080/"
        },
        "id": "HK0H7O_Vpjo4",
        "outputId": "1af7fa2c-c3a2-4478-a80b-7e189006bf5e"
      },
      "source": [
        "for chunk in doc6.noun_chunks:\n",
        "  print(chunk)"
      ],
      "execution_count": 138,
      "outputs": [
        {
          "output_type": "stream",
          "text": [
            "Apple\n",
            "a Hong Kong factory\n"
          ],
          "name": "stdout"
        }
      ]
    },
    {
      "cell_type": "markdown",
      "metadata": {
        "id": "21ATG04f1ljE"
      },
      "source": [
        "## Built-in Visulaizers"
      ]
    },
    {
      "cell_type": "code",
      "metadata": {
        "colab": {
          "base_uri": "https://localhost:8080/",
          "height": 408
        },
        "id": "u2hp7TdYpjwc",
        "outputId": "a0047aca-80c6-4645-d5f8-b46c4aba8403"
      },
      "source": [
        "from spacy import displacy\n",
        "displacy.render(doc6, style='dep', jupyter=True, options={'distance':100})"
      ],
      "execution_count": 139,
      "outputs": [
        {
          "output_type": "display_data",
          "data": {
            "text/html": [
              "<span class=\"tex2jax_ignore\"><svg xmlns=\"http://www.w3.org/2000/svg\" xmlns:xlink=\"http://www.w3.org/1999/xlink\" xml:lang=\"en\" id=\"adba753cf02f47b3b19f69a9613a10f1-0\" class=\"displacy\" width=\"1150\" height=\"387.0\" direction=\"ltr\" style=\"max-width: none; height: 387.0px; color: #000000; background: #ffffff; font-family: Arial; direction: ltr\">\n",
              "<text class=\"displacy-token\" fill=\"currentColor\" text-anchor=\"middle\" y=\"297.0\">\n",
              "    <tspan class=\"displacy-word\" fill=\"currentColor\" x=\"50\">Apple</tspan>\n",
              "    <tspan class=\"displacy-tag\" dy=\"2em\" fill=\"currentColor\" x=\"50\">NOUN</tspan>\n",
              "</text>\n",
              "\n",
              "<text class=\"displacy-token\" fill=\"currentColor\" text-anchor=\"middle\" y=\"297.0\">\n",
              "    <tspan class=\"displacy-word\" fill=\"currentColor\" x=\"150\">to</tspan>\n",
              "    <tspan class=\"displacy-tag\" dy=\"2em\" fill=\"currentColor\" x=\"150\">PART</tspan>\n",
              "</text>\n",
              "\n",
              "<text class=\"displacy-token\" fill=\"currentColor\" text-anchor=\"middle\" y=\"297.0\">\n",
              "    <tspan class=\"displacy-word\" fill=\"currentColor\" x=\"250\">build</tspan>\n",
              "    <tspan class=\"displacy-tag\" dy=\"2em\" fill=\"currentColor\" x=\"250\">VERB</tspan>\n",
              "</text>\n",
              "\n",
              "<text class=\"displacy-token\" fill=\"currentColor\" text-anchor=\"middle\" y=\"297.0\">\n",
              "    <tspan class=\"displacy-word\" fill=\"currentColor\" x=\"350\">a</tspan>\n",
              "    <tspan class=\"displacy-tag\" dy=\"2em\" fill=\"currentColor\" x=\"350\">DET</tspan>\n",
              "</text>\n",
              "\n",
              "<text class=\"displacy-token\" fill=\"currentColor\" text-anchor=\"middle\" y=\"297.0\">\n",
              "    <tspan class=\"displacy-word\" fill=\"currentColor\" x=\"450\">Hong</tspan>\n",
              "    <tspan class=\"displacy-tag\" dy=\"2em\" fill=\"currentColor\" x=\"450\">PROPN</tspan>\n",
              "</text>\n",
              "\n",
              "<text class=\"displacy-token\" fill=\"currentColor\" text-anchor=\"middle\" y=\"297.0\">\n",
              "    <tspan class=\"displacy-word\" fill=\"currentColor\" x=\"550\">Kong</tspan>\n",
              "    <tspan class=\"displacy-tag\" dy=\"2em\" fill=\"currentColor\" x=\"550\">PROPN</tspan>\n",
              "</text>\n",
              "\n",
              "<text class=\"displacy-token\" fill=\"currentColor\" text-anchor=\"middle\" y=\"297.0\">\n",
              "    <tspan class=\"displacy-word\" fill=\"currentColor\" x=\"650\">factory</tspan>\n",
              "    <tspan class=\"displacy-tag\" dy=\"2em\" fill=\"currentColor\" x=\"650\">NOUN</tspan>\n",
              "</text>\n",
              "\n",
              "<text class=\"displacy-token\" fill=\"currentColor\" text-anchor=\"middle\" y=\"297.0\">\n",
              "    <tspan class=\"displacy-word\" fill=\"currentColor\" x=\"750\">for</tspan>\n",
              "    <tspan class=\"displacy-tag\" dy=\"2em\" fill=\"currentColor\" x=\"750\">ADP</tspan>\n",
              "</text>\n",
              "\n",
              "<text class=\"displacy-token\" fill=\"currentColor\" text-anchor=\"middle\" y=\"297.0\">\n",
              "    <tspan class=\"displacy-word\" fill=\"currentColor\" x=\"850\">$</tspan>\n",
              "    <tspan class=\"displacy-tag\" dy=\"2em\" fill=\"currentColor\" x=\"850\">SYM</tspan>\n",
              "</text>\n",
              "\n",
              "<text class=\"displacy-token\" fill=\"currentColor\" text-anchor=\"middle\" y=\"297.0\">\n",
              "    <tspan class=\"displacy-word\" fill=\"currentColor\" x=\"950\">10</tspan>\n",
              "    <tspan class=\"displacy-tag\" dy=\"2em\" fill=\"currentColor\" x=\"950\">NUM</tspan>\n",
              "</text>\n",
              "\n",
              "<text class=\"displacy-token\" fill=\"currentColor\" text-anchor=\"middle\" y=\"297.0\">\n",
              "    <tspan class=\"displacy-word\" fill=\"currentColor\" x=\"1050\">million</tspan>\n",
              "    <tspan class=\"displacy-tag\" dy=\"2em\" fill=\"currentColor\" x=\"1050\">NUM</tspan>\n",
              "</text>\n",
              "\n",
              "<g class=\"displacy-arrow\">\n",
              "    <path class=\"displacy-arc\" id=\"arrow-adba753cf02f47b3b19f69a9613a10f1-0-0\" stroke-width=\"2px\" d=\"M170,252.0 C170,202.0 230.0,202.0 230.0,252.0\" fill=\"none\" stroke=\"currentColor\"/>\n",
              "    <text dy=\"1.25em\" style=\"font-size: 0.8em; letter-spacing: 1px\">\n",
              "        <textPath xlink:href=\"#arrow-adba753cf02f47b3b19f69a9613a10f1-0-0\" class=\"displacy-label\" startOffset=\"50%\" side=\"left\" fill=\"currentColor\" text-anchor=\"middle\">aux</textPath>\n",
              "    </text>\n",
              "    <path class=\"displacy-arrowhead\" d=\"M170,254.0 L162,242.0 178,242.0\" fill=\"currentColor\"/>\n",
              "</g>\n",
              "\n",
              "<g class=\"displacy-arrow\">\n",
              "    <path class=\"displacy-arc\" id=\"arrow-adba753cf02f47b3b19f69a9613a10f1-0-1\" stroke-width=\"2px\" d=\"M70,252.0 C70,152.0 235.0,152.0 235.0,252.0\" fill=\"none\" stroke=\"currentColor\"/>\n",
              "    <text dy=\"1.25em\" style=\"font-size: 0.8em; letter-spacing: 1px\">\n",
              "        <textPath xlink:href=\"#arrow-adba753cf02f47b3b19f69a9613a10f1-0-1\" class=\"displacy-label\" startOffset=\"50%\" side=\"left\" fill=\"currentColor\" text-anchor=\"middle\">relcl</textPath>\n",
              "    </text>\n",
              "    <path class=\"displacy-arrowhead\" d=\"M235.0,254.0 L243.0,242.0 227.0,242.0\" fill=\"currentColor\"/>\n",
              "</g>\n",
              "\n",
              "<g class=\"displacy-arrow\">\n",
              "    <path class=\"displacy-arc\" id=\"arrow-adba753cf02f47b3b19f69a9613a10f1-0-2\" stroke-width=\"2px\" d=\"M370,252.0 C370,102.0 640.0,102.0 640.0,252.0\" fill=\"none\" stroke=\"currentColor\"/>\n",
              "    <text dy=\"1.25em\" style=\"font-size: 0.8em; letter-spacing: 1px\">\n",
              "        <textPath xlink:href=\"#arrow-adba753cf02f47b3b19f69a9613a10f1-0-2\" class=\"displacy-label\" startOffset=\"50%\" side=\"left\" fill=\"currentColor\" text-anchor=\"middle\">det</textPath>\n",
              "    </text>\n",
              "    <path class=\"displacy-arrowhead\" d=\"M370,254.0 L362,242.0 378,242.0\" fill=\"currentColor\"/>\n",
              "</g>\n",
              "\n",
              "<g class=\"displacy-arrow\">\n",
              "    <path class=\"displacy-arc\" id=\"arrow-adba753cf02f47b3b19f69a9613a10f1-0-3\" stroke-width=\"2px\" d=\"M470,252.0 C470,202.0 530.0,202.0 530.0,252.0\" fill=\"none\" stroke=\"currentColor\"/>\n",
              "    <text dy=\"1.25em\" style=\"font-size: 0.8em; letter-spacing: 1px\">\n",
              "        <textPath xlink:href=\"#arrow-adba753cf02f47b3b19f69a9613a10f1-0-3\" class=\"displacy-label\" startOffset=\"50%\" side=\"left\" fill=\"currentColor\" text-anchor=\"middle\">compound</textPath>\n",
              "    </text>\n",
              "    <path class=\"displacy-arrowhead\" d=\"M470,254.0 L462,242.0 478,242.0\" fill=\"currentColor\"/>\n",
              "</g>\n",
              "\n",
              "<g class=\"displacy-arrow\">\n",
              "    <path class=\"displacy-arc\" id=\"arrow-adba753cf02f47b3b19f69a9613a10f1-0-4\" stroke-width=\"2px\" d=\"M570,252.0 C570,202.0 630.0,202.0 630.0,252.0\" fill=\"none\" stroke=\"currentColor\"/>\n",
              "    <text dy=\"1.25em\" style=\"font-size: 0.8em; letter-spacing: 1px\">\n",
              "        <textPath xlink:href=\"#arrow-adba753cf02f47b3b19f69a9613a10f1-0-4\" class=\"displacy-label\" startOffset=\"50%\" side=\"left\" fill=\"currentColor\" text-anchor=\"middle\">compound</textPath>\n",
              "    </text>\n",
              "    <path class=\"displacy-arrowhead\" d=\"M570,254.0 L562,242.0 578,242.0\" fill=\"currentColor\"/>\n",
              "</g>\n",
              "\n",
              "<g class=\"displacy-arrow\">\n",
              "    <path class=\"displacy-arc\" id=\"arrow-adba753cf02f47b3b19f69a9613a10f1-0-5\" stroke-width=\"2px\" d=\"M270,252.0 C270,52.0 645.0,52.0 645.0,252.0\" fill=\"none\" stroke=\"currentColor\"/>\n",
              "    <text dy=\"1.25em\" style=\"font-size: 0.8em; letter-spacing: 1px\">\n",
              "        <textPath xlink:href=\"#arrow-adba753cf02f47b3b19f69a9613a10f1-0-5\" class=\"displacy-label\" startOffset=\"50%\" side=\"left\" fill=\"currentColor\" text-anchor=\"middle\">dobj</textPath>\n",
              "    </text>\n",
              "    <path class=\"displacy-arrowhead\" d=\"M645.0,254.0 L653.0,242.0 637.0,242.0\" fill=\"currentColor\"/>\n",
              "</g>\n",
              "\n",
              "<g class=\"displacy-arrow\">\n",
              "    <path class=\"displacy-arc\" id=\"arrow-adba753cf02f47b3b19f69a9613a10f1-0-6\" stroke-width=\"2px\" d=\"M270,252.0 C270,2.0 750.0,2.0 750.0,252.0\" fill=\"none\" stroke=\"currentColor\"/>\n",
              "    <text dy=\"1.25em\" style=\"font-size: 0.8em; letter-spacing: 1px\">\n",
              "        <textPath xlink:href=\"#arrow-adba753cf02f47b3b19f69a9613a10f1-0-6\" class=\"displacy-label\" startOffset=\"50%\" side=\"left\" fill=\"currentColor\" text-anchor=\"middle\">prep</textPath>\n",
              "    </text>\n",
              "    <path class=\"displacy-arrowhead\" d=\"M750.0,254.0 L758.0,242.0 742.0,242.0\" fill=\"currentColor\"/>\n",
              "</g>\n",
              "\n",
              "<g class=\"displacy-arrow\">\n",
              "    <path class=\"displacy-arc\" id=\"arrow-adba753cf02f47b3b19f69a9613a10f1-0-7\" stroke-width=\"2px\" d=\"M870,252.0 C870,152.0 1035.0,152.0 1035.0,252.0\" fill=\"none\" stroke=\"currentColor\"/>\n",
              "    <text dy=\"1.25em\" style=\"font-size: 0.8em; letter-spacing: 1px\">\n",
              "        <textPath xlink:href=\"#arrow-adba753cf02f47b3b19f69a9613a10f1-0-7\" class=\"displacy-label\" startOffset=\"50%\" side=\"left\" fill=\"currentColor\" text-anchor=\"middle\">quantmod</textPath>\n",
              "    </text>\n",
              "    <path class=\"displacy-arrowhead\" d=\"M870,254.0 L862,242.0 878,242.0\" fill=\"currentColor\"/>\n",
              "</g>\n",
              "\n",
              "<g class=\"displacy-arrow\">\n",
              "    <path class=\"displacy-arc\" id=\"arrow-adba753cf02f47b3b19f69a9613a10f1-0-8\" stroke-width=\"2px\" d=\"M970,252.0 C970,202.0 1030.0,202.0 1030.0,252.0\" fill=\"none\" stroke=\"currentColor\"/>\n",
              "    <text dy=\"1.25em\" style=\"font-size: 0.8em; letter-spacing: 1px\">\n",
              "        <textPath xlink:href=\"#arrow-adba753cf02f47b3b19f69a9613a10f1-0-8\" class=\"displacy-label\" startOffset=\"50%\" side=\"left\" fill=\"currentColor\" text-anchor=\"middle\">compound</textPath>\n",
              "    </text>\n",
              "    <path class=\"displacy-arrowhead\" d=\"M970,254.0 L962,242.0 978,242.0\" fill=\"currentColor\"/>\n",
              "</g>\n",
              "\n",
              "<g class=\"displacy-arrow\">\n",
              "    <path class=\"displacy-arc\" id=\"arrow-adba753cf02f47b3b19f69a9613a10f1-0-9\" stroke-width=\"2px\" d=\"M770,252.0 C770,102.0 1040.0,102.0 1040.0,252.0\" fill=\"none\" stroke=\"currentColor\"/>\n",
              "    <text dy=\"1.25em\" style=\"font-size: 0.8em; letter-spacing: 1px\">\n",
              "        <textPath xlink:href=\"#arrow-adba753cf02f47b3b19f69a9613a10f1-0-9\" class=\"displacy-label\" startOffset=\"50%\" side=\"left\" fill=\"currentColor\" text-anchor=\"middle\">pobj</textPath>\n",
              "    </text>\n",
              "    <path class=\"displacy-arrowhead\" d=\"M1040.0,254.0 L1048.0,242.0 1032.0,242.0\" fill=\"currentColor\"/>\n",
              "</g>\n",
              "</svg></span>"
            ],
            "text/plain": [
              "<IPython.core.display.HTML object>"
            ]
          },
          "metadata": {
            "tags": []
          }
        }
      ]
    },
    {
      "cell_type": "code",
      "metadata": {
        "colab": {
          "base_uri": "https://localhost:8080/",
          "height": 52
        },
        "id": "ZkMbmYUGpjzD",
        "outputId": "6c8ed8b6-b47f-4231-e6a0-a0d58160156a"
      },
      "source": [
        "displacy.render(doc6, style='ent', jupyter=True)"
      ],
      "execution_count": 140,
      "outputs": [
        {
          "output_type": "display_data",
          "data": {
            "text/html": [
              "<span class=\"tex2jax_ignore\"><div class=\"entities\" style=\"line-height: 2.5; direction: ltr\">\n",
              "<mark class=\"entity\" style=\"background: #7aecec; padding: 0.45em 0.6em; margin: 0 0.25em; line-height: 1; border-radius: 0.35em;\">\n",
              "    Apple\n",
              "    <span style=\"font-size: 0.8em; font-weight: bold; line-height: 1; border-radius: 0.35em; text-transform: uppercase; vertical-align: middle; margin-left: 0.5rem\">ORG</span>\n",
              "</mark>\n",
              " to build a \n",
              "<mark class=\"entity\" style=\"background: #feca74; padding: 0.45em 0.6em; margin: 0 0.25em; line-height: 1; border-radius: 0.35em;\">\n",
              "    Hong Kong\n",
              "    <span style=\"font-size: 0.8em; font-weight: bold; line-height: 1; border-radius: 0.35em; text-transform: uppercase; vertical-align: middle; margin-left: 0.5rem\">GPE</span>\n",
              "</mark>\n",
              " factory for \n",
              "<mark class=\"entity\" style=\"background: #e4e7d2; padding: 0.45em 0.6em; margin: 0 0.25em; line-height: 1; border-radius: 0.35em;\">\n",
              "    $10 million\n",
              "    <span style=\"font-size: 0.8em; font-weight: bold; line-height: 1; border-radius: 0.35em; text-transform: uppercase; vertical-align: middle; margin-left: 0.5rem\">MONEY</span>\n",
              "</mark>\n",
              "</div></span>"
            ],
            "text/plain": [
              "<IPython.core.display.HTML object>"
            ]
          },
          "metadata": {
            "tags": []
          }
        }
      ]
    },
    {
      "cell_type": "markdown",
      "metadata": {
        "id": "HQ2lcAc2-TH0"
      },
      "source": [
        "## Stemming"
      ]
    },
    {
      "cell_type": "code",
      "metadata": {
        "id": "kkws3pAopj2a"
      },
      "source": [
        "import nltk\n",
        "from nltk.stem.porter import PorterStemmer"
      ],
      "execution_count": 141,
      "outputs": []
    },
    {
      "cell_type": "code",
      "metadata": {
        "colab": {
          "base_uri": "https://localhost:8080/"
        },
        "id": "TzLI-iNjhErJ",
        "outputId": "66b3473c-31d3-48ad-b212-dceeace7a19a"
      },
      "source": [
        "p = PorterStemmer()\n",
        "words = ['joyous', 'to', 'wordly', 'earthlyness', 'genorisity', 'ran', 'runs', 'running', 'fairly', 'easiness', 'fairness', 'easily']\n",
        "\n",
        "for w in words:\n",
        "  print(w + '---------->' + p.stem(w))"
      ],
      "execution_count": 142,
      "outputs": [
        {
          "output_type": "stream",
          "text": [
            "joyous---------->joyou\n",
            "to---------->to\n",
            "wordly---------->wordli\n",
            "earthlyness---------->earthly\n",
            "genorisity---------->genoris\n",
            "ran---------->ran\n",
            "runs---------->run\n",
            "running---------->run\n",
            "fairly---------->fairli\n",
            "easiness---------->easi\n",
            "fairness---------->fair\n",
            "easily---------->easili\n"
          ],
          "name": "stdout"
        }
      ]
    },
    {
      "cell_type": "code",
      "metadata": {
        "colab": {
          "base_uri": "https://localhost:8080/"
        },
        "id": "ZlGzgvIX7rEh",
        "outputId": "26aa3e55-423a-4461-8638-f1541d2034aa"
      },
      "source": [
        "from nltk.stem.snowball import SnowballStemmer\n",
        "s = SnowballStemmer(language = 'english')\n",
        "\n",
        "for w in words:\n",
        "  print(w + '---------->' + s.stem(w))"
      ],
      "execution_count": 143,
      "outputs": [
        {
          "output_type": "stream",
          "text": [
            "joyous---------->joyous\n",
            "to---------->to\n",
            "wordly---------->word\n",
            "earthlyness---------->earthly\n",
            "genorisity---------->genoris\n",
            "ran---------->ran\n",
            "runs---------->run\n",
            "running---------->run\n",
            "fairly---------->fair\n",
            "easiness---------->easi\n",
            "fairness---------->fair\n",
            "easily---------->easili\n"
          ],
          "name": "stdout"
        }
      ]
    },
    {
      "cell_type": "markdown",
      "metadata": {
        "id": "yCTUSrwB-V-8"
      },
      "source": [
        "## Lemmatizers"
      ]
    },
    {
      "cell_type": "code",
      "metadata": {
        "id": "VvGYzFPM-lF1"
      },
      "source": [
        "def show_lemmas(words):\n",
        "  for token in words:\n",
        "    print(f'{token.text:{12}} {token.lemma:<{22}} {token.lemma_}')"
      ],
      "execution_count": 144,
      "outputs": []
    },
    {
      "cell_type": "code",
      "metadata": {
        "colab": {
          "base_uri": "https://localhost:8080/"
        },
        "id": "VCNBUJ_075Bw",
        "outputId": "9239b347-2c48-4210-a880-279cdc2f0f80"
      },
      "source": [
        "doc7 = nlp(u'I am a runner running a race because I love to run since I ran today.')\n",
        "show_lemmas(doc7)"
      ],
      "execution_count": 145,
      "outputs": [
        {
          "output_type": "stream",
          "text": [
            "I            561228191312463089     -PRON-\n",
            "am           10382539506755952630   be\n",
            "a            11901859001352538922   a\n",
            "runner       12640964157389618806   runner\n",
            "running      12767647472892411841   run\n",
            "a            11901859001352538922   a\n",
            "race         8048469955494714898    race\n",
            "because      16950148841647037698   because\n",
            "I            561228191312463089     -PRON-\n",
            "love         3702023516439754181    love\n",
            "to           3791531372978436496    to\n",
            "run          12767647472892411841   run\n",
            "since        10066841407251338481   since\n",
            "I            561228191312463089     -PRON-\n",
            "ran          12767647472892411841   run\n",
            "today        11042482332948150395   today\n",
            ".            12646065887601541794   .\n"
          ],
          "name": "stdout"
        }
      ]
    },
    {
      "cell_type": "markdown",
      "metadata": {
        "id": "x79si_0PAYfz"
      },
      "source": [
        "## Stop Words"
      ]
    },
    {
      "cell_type": "code",
      "metadata": {
        "colab": {
          "base_uri": "https://localhost:8080/"
        },
        "id": "uNQBVury-51E",
        "outputId": "cb8931fe-d8d5-4b42-bf2a-7e4cd5238ddf"
      },
      "source": [
        "print(nlp.Defaults.stop_words)"
      ],
      "execution_count": 146,
      "outputs": [
        {
          "output_type": "stream",
          "text": [
            "{'is', 'nowhere', 'ever', 'whereafter', 'who', 'since', 'make', 'between', 'least', 'somehow', 'eight', 'perhaps', 'that', 'latterly', 'her', 'former', 'many', '’ll', 'several', 'namely', 'besides', 'already', 'seeming', 'off', 'were', 'four', 'not', 'us', 'hundred', 'to', 'ourselves', 'see', 'else', 'hence', '’re', 'whether', 'so', 'throughout', 'next', 'hers', 'nothing', 'formerly', 'give', 'of', 'beforehand', 'an', 'whereas', 'below', 'his', 'those', 'why', 'too', 'whatever', 'all', 'whoever', 'name', 'their', 'across', 'moreover', 'there', '’s', 'unless', 'three', 'does', 'anyway', 'only', 'really', \"'ll\", \"'ve\", 'mine', 'hereby', 'which', 'forty', 'over', 'doing', 'none', 'must', 'often', 'against', 'n’t', 'until', '‘d', '’ve', 'less', 'per', 'under', 'put', 'while', 'first', 'am', 'yours', 'becoming', 'beyond', 'both', 'it', 'or', 'always', \"'s\", 'yourself', 'otherwise', 'than', 'once', '’d', 'this', 'around', 'keep', 'by', 'anywhere', 'how', 'mostly', 'various', 'above', 'before', 'after', 'few', 'sometimes', 'own', 'another', 'because', 'as', 'using', '’m', 'latter', 'anything', 'please', 'made', 'back', 'show', 'become', 'hereupon', 'will', 'upon', 'whereupon', \"n't\", 'ca', 'my', 'afterwards', 'most', 'now', 'a', 'nevertheless', 'such', 'via', 'has', 'being', 'when', 'along', 'twenty', 'quite', 'again', 'someone', 'we', 'even', 'you', 'just', 'are', 'itself', 'seems', 'in', 'on', '‘m', '‘re', 'seemed', 'alone', 'elsewhere', 'no', 'call', 'from', 'thence', 'somewhere', 'them', 'our', 'move', 'very', 'nine', 'your', 'whereby', 'much', 'sometime', 'about', 'ten', 'here', 'hereafter', 'whom', 're', 'more', 'would', 'together', 'can', 'behind', 'also', 'eleven', 'serious', 'say', 'him', '‘ll', 'the', 'cannot', 'should', 'full', 'might', 'may', 'five', 'done', 'up', 'get', 'each', 'never', 'yet', 'me', 'herein', 'fifteen', 'into', 'rather', '‘ve', 'became', 'anyone', 'without', 'go', 'thereby', 'meanwhile', 'though', 'beside', 'everywhere', 'myself', 'whenever', 'although', 'others', 'sixty', 'top', 'except', \"'m\", 'take', 'amount', 'regarding', 'becomes', 'one', 'seem', 'been', \"'re\", 'have', \"'d\", 'they', 'himself', 'what', 'n‘t', 'during', 'for', 'be', 'thru', 'but', 'however', 'yourselves', 'still', 'did', 'fifty', 'nor', 'last', 'whole', 'empty', 'whither', 'through', 'same', 'almost', 'had', 'used', 'at', 'with', 'any', '‘s', 'due', 'well', 'twelve', 'further', 'neither', 'if', 'could', 'indeed', 'whose', 'onto', 'part', 'either', 'everything', 'nobody', 'whence', 'other', 'wherever', 'down', 'noone', 'side', 'and', 'amongst', 'toward', 'therein', 'thereupon', 'herself', 'two', 'out', 'then', 'she', 'every', 'thereafter', 'everyone', 'these', 'within', 'third', 'enough', 'front', 'some', 'was', 'i', 'its', 'do', 'where', 'bottom', 'among', 'themselves', 'he', 'ours', 'thus', 'wherein', 'anyhow', 'towards', 'six', 'therefore', 'something'}\n"
          ],
          "name": "stdout"
        }
      ]
    },
    {
      "cell_type": "code",
      "metadata": {
        "colab": {
          "base_uri": "https://localhost:8080/"
        },
        "id": "3DUVE3grAf4y",
        "outputId": "4a1a9dc3-4c39-4b21-f088-e3d9d590d979"
      },
      "source": [
        "len(nlp.Defaults.stop_words)"
      ],
      "execution_count": 147,
      "outputs": [
        {
          "output_type": "execute_result",
          "data": {
            "text/plain": [
              "326"
            ]
          },
          "metadata": {
            "tags": []
          },
          "execution_count": 147
        }
      ]
    },
    {
      "cell_type": "code",
      "metadata": {
        "colab": {
          "base_uri": "https://localhost:8080/"
        },
        "id": "TzofXNr2Aqch",
        "outputId": "c8d6982d-1fbf-4be4-f6d3-446144e27d43"
      },
      "source": [
        "nlp.vocab['nowhere'].is_stop"
      ],
      "execution_count": 148,
      "outputs": [
        {
          "output_type": "execute_result",
          "data": {
            "text/plain": [
              "True"
            ]
          },
          "metadata": {
            "tags": []
          },
          "execution_count": 148
        }
      ]
    },
    {
      "cell_type": "code",
      "metadata": {
        "colab": {
          "base_uri": "https://localhost:8080/"
        },
        "id": "ccxWrcyCAvIz",
        "outputId": "4717adc8-d052-4350-db4c-9373a80a4867"
      },
      "source": [
        "nlp.vocab['Harrison Wells'].is_stop"
      ],
      "execution_count": 149,
      "outputs": [
        {
          "output_type": "execute_result",
          "data": {
            "text/plain": [
              "False"
            ]
          },
          "metadata": {
            "tags": []
          },
          "execution_count": 149
        }
      ]
    },
    {
      "cell_type": "code",
      "metadata": {
        "id": "sajocb4LAzJv"
      },
      "source": [
        "nlp.Defaults.stop_words.add('accelerator')"
      ],
      "execution_count": 150,
      "outputs": []
    },
    {
      "cell_type": "code",
      "metadata": {
        "colab": {
          "base_uri": "https://localhost:8080/"
        },
        "id": "Ml6EKDk6A5uO",
        "outputId": "b3ead7dd-b6f3-4c16-a821-a156b6e47fad"
      },
      "source": [
        "len(nlp.Defaults.stop_words)"
      ],
      "execution_count": 151,
      "outputs": [
        {
          "output_type": "execute_result",
          "data": {
            "text/plain": [
              "327"
            ]
          },
          "metadata": {
            "tags": []
          },
          "execution_count": 151
        }
      ]
    },
    {
      "cell_type": "code",
      "metadata": {
        "colab": {
          "base_uri": "https://localhost:8080/"
        },
        "id": "5hJn4ohaA8fl",
        "outputId": "30007dbd-dd29-4433-c672-254825cece7b"
      },
      "source": [
        "nlp.vocab['accelerator'].is_stop"
      ],
      "execution_count": 152,
      "outputs": [
        {
          "output_type": "execute_result",
          "data": {
            "text/plain": [
              "True"
            ]
          },
          "metadata": {
            "tags": []
          },
          "execution_count": 152
        }
      ]
    },
    {
      "cell_type": "code",
      "metadata": {
        "id": "yM2sez8iBAwO"
      },
      "source": [
        "nlp.Defaults.stop_words.remove('accelerator')"
      ],
      "execution_count": 153,
      "outputs": []
    },
    {
      "cell_type": "code",
      "metadata": {
        "colab": {
          "base_uri": "https://localhost:8080/"
        },
        "id": "uwuiLVMMBE2k",
        "outputId": "d2b0f203-25d9-4bfd-b9b3-4f68a69e25bd"
      },
      "source": [
        "len(nlp.Defaults.stop_words)"
      ],
      "execution_count": 154,
      "outputs": [
        {
          "output_type": "execute_result",
          "data": {
            "text/plain": [
              "326"
            ]
          },
          "metadata": {
            "tags": []
          },
          "execution_count": 154
        }
      ]
    },
    {
      "cell_type": "markdown",
      "metadata": {
        "id": "V6sl-4JZdK8g"
      },
      "source": [
        "## Phrase Matching and Vocaulary"
      ]
    },
    {
      "cell_type": "code",
      "metadata": {
        "id": "_MKd61ArBGsI"
      },
      "source": [
        "from spacy.matcher import Matcher\n",
        "m = Matcher(nlp.vocab)"
      ],
      "execution_count": 155,
      "outputs": []
    },
    {
      "cell_type": "code",
      "metadata": {
        "colab": {
          "base_uri": "https://localhost:8080/"
        },
        "id": "c-9rtyQ-dGmg",
        "outputId": "8a8bf721-c53f-4e38-c6b0-2e839168c9e3"
      },
      "source": [
        "pattern1 = [{'LOWER' : 'unitedkingdom'}]\n",
        "pattern2 = [{'LOWER' : 'united'} , {'LOWER' : 'kingdom'}]\n",
        "pattern3 = [{'LOWER' : 'united'} , {'IS_PUNCT': True}, {'LOWER': 'kingdom'}]\n",
        "\n",
        "m.add('UK', None, pattern1, pattern2, pattern3)\n",
        "\n",
        "doc8 = nlp(u'The United Kingdom, made up of England, Scotland, Wales and Northern Ireland. The unitedkingdom is an island nation in northwestern Europe. The United-Kingdom has England which is home to the Beatles')\n",
        "\n",
        "match = m(doc8)\n",
        "\n",
        "print(match)\n"
      ],
      "execution_count": 160,
      "outputs": [
        {
          "output_type": "stream",
          "text": [
            "[(13801868238736630370, 1, 3), (14067982841790495447, 1, 3), (13801868238736630370, 17, 18), (14067982841790495447, 17, 18), (14067982841790495447, 27, 30), (13801868238736630370, 27, 30)]\n"
          ],
          "name": "stdout"
        }
      ]
    },
    {
      "cell_type": "code",
      "metadata": {
        "colab": {
          "base_uri": "https://localhost:8080/"
        },
        "id": "u7Fj99YgdGpW",
        "outputId": "33c5c37f-530c-4999-a1f1-91e9954a5713"
      },
      "source": [
        "for match_id, start, end in match:\n",
        " string_id = nlp.vocab.strings[match_id] \n",
        " span = doc8[start:end]\n",
        " print(match_id, string_id, start, end, span.text)"
      ],
      "execution_count": 161,
      "outputs": [
        {
          "output_type": "stream",
          "text": [
            "13801868238736630370 UKop 1 3 United Kingdom\n",
            "14067982841790495447 UK 1 3 United Kingdom\n",
            "13801868238736630370 UKop 17 18 unitedkingdom\n",
            "14067982841790495447 UK 17 18 unitedkingdom\n",
            "14067982841790495447 UK 27 30 United-Kingdom\n",
            "13801868238736630370 UKop 27 30 United-Kingdom\n"
          ],
          "name": "stdout"
        }
      ]
    },
    {
      "cell_type": "code",
      "metadata": {
        "colab": {
          "base_uri": "https://localhost:8080/"
        },
        "id": "2dYGIaS3dGrs",
        "outputId": "5bc35051-a66f-4c1d-c030-3b84c83c5031"
      },
      "source": [
        "pattern1 = [{'LOWER' : 'unitedkingdom'}]\n",
        "pattern2 = [{'LOWER' : 'united'} , {'IS_PUNCT': True, 'OP' : '*'}, {'LOWER': 'kingdom'}]\n",
        "\n",
        "m.remove('UK')\n",
        "m.add('UKop', None, pattern1, pattern2)\n",
        "\n",
        "doc9 = nlp(u'The United--Kingdom, made up of England, Scotland, Wales and Northern Ireland')\n",
        "\n",
        "match = m(doc9)\n",
        "\n",
        "print(match)"
      ],
      "execution_count": 162,
      "outputs": [
        {
          "output_type": "stream",
          "text": [
            "[(13801868238736630370, 1, 4)]\n"
          ],
          "name": "stdout"
        }
      ]
    },
    {
      "cell_type": "code",
      "metadata": {
        "id": "urs0WqQodGt6"
      },
      "source": [
        "m.remove('UKop')"
      ],
      "execution_count": 163,
      "outputs": []
    },
    {
      "cell_type": "code",
      "metadata": {
        "colab": {
          "base_uri": "https://localhost:8080/"
        },
        "id": "7r_PrQICdGwn",
        "outputId": "748a2881-4773-4304-b5c9-808de1ec6035"
      },
      "source": [
        "pattern1 = [{'LOWER': 'solarpower'}]\n",
        "pattern2 = [{'LOWER': 'solar'}, {'IS_PUNCT': True, 'OP':'*'}, {'LEMMA': 'power'}] \n",
        "\n",
        "\n",
        "m.add('SolarPower', None, pattern1, pattern2)\n",
        "doc10 = nlp(u'Solar-powered energy runs solar-powered cars.')\n",
        "match = m(doc10)\n",
        "print(match)"
      ],
      "execution_count": 165,
      "outputs": [
        {
          "output_type": "stream",
          "text": [
            "[(8656102463236116519, 0, 3), (8656102463236116519, 5, 8)]\n"
          ],
          "name": "stdout"
        }
      ]
    },
    {
      "cell_type": "code",
      "metadata": {
        "id": "l4KDbvk7hb3o"
      },
      "source": [
        "m.remove('SolarPower')"
      ],
      "execution_count": 168,
      "outputs": []
    },
    {
      "cell_type": "markdown",
      "metadata": {
        "id": "Y9rJAdrBg1Kn"
      },
      "source": [
        "### Phrase Macther"
      ]
    },
    {
      "cell_type": "code",
      "metadata": {
        "id": "VYCAdRwddGz-"
      },
      "source": [
        "from spacy.matcher import PhraseMatcher\n",
        "phm = PhraseMatcher(nlp.vocab) "
      ],
      "execution_count": 166,
      "outputs": []
    },
    {
      "cell_type": "code",
      "metadata": {
        "id": "-jRw3XAKjyqG"
      },
      "source": [
        "phm.add('o', [nlp('Barack Obama')])\n",
        "doc11 = nlp(\"Barack Obama lifts America one last time in emotional farewell\")\n",
        "matches = phm(doc11)"
      ],
      "execution_count": 180,
      "outputs": []
    },
    {
      "cell_type": "code",
      "metadata": {
        "colab": {
          "base_uri": "https://localhost:8080/"
        },
        "id": "pFuVgle5hAxF",
        "outputId": "b75cd2b9-5b9e-41f8-9d33-dfa07468775d"
      },
      "source": [
        "matches"
      ],
      "execution_count": 181,
      "outputs": [
        {
          "output_type": "execute_result",
          "data": {
            "text/plain": [
              "[(1489474827855109852, 0, 2)]"
            ]
          },
          "metadata": {
            "tags": []
          },
          "execution_count": 181
        }
      ]
    },
    {
      "cell_type": "code",
      "metadata": {
        "id": "OMQCEvU0nWf2"
      },
      "source": [
        "phm.remove('o')"
      ],
      "execution_count": 182,
      "outputs": []
    },
    {
      "cell_type": "code",
      "metadata": {
        "id": "2To-3eDrhA9T"
      },
      "source": [
        "with open('/content/notes.txt') as f:\n",
        "  doc12 = nlp(f.read())\n",
        "\n",
        "phrase_list = ['color map', 'alpha scale', 'in bgr']\n",
        "phrase_patterns = [nlp(text) for text in phrase_list]\n",
        "\n",
        "phm.add('opencv', None, *phrase_patterns)\n",
        "\n",
        "match = phm(doc12)"
      ],
      "execution_count": 183,
      "outputs": []
    },
    {
      "cell_type": "code",
      "metadata": {
        "colab": {
          "base_uri": "https://localhost:8080/"
        },
        "id": "x6eWKPkPngje",
        "outputId": "1c17db58-e10e-47d2-c7fd-28eeca5070dd"
      },
      "source": [
        "for match_id, start, end in match:\n",
        " string_id = nlp.vocab.strings[match_id] \n",
        " span = doc12[start:end]\n",
        " print(match_id, string_id, start, end, span.text)"
      ],
      "execution_count": 184,
      "outputs": [
        {
          "output_type": "stream",
          "text": [
            "6285437781414698949 opencv 25 27 alpha scale\n",
            "6285437781414698949 opencv 51 53 color map\n",
            "6285437781414698949 opencv 56 58 color map\n",
            "6285437781414698949 opencv 76 78 in bgr\n"
          ],
          "name": "stdout"
        }
      ]
    },
    {
      "cell_type": "code",
      "metadata": {
        "id": "K4ftBztKnr-T"
      },
      "source": [
        ""
      ],
      "execution_count": null,
      "outputs": []
    }
  ]
}