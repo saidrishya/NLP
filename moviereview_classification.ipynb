{
  "nbformat": 4,
  "nbformat_minor": 0,
  "metadata": {
    "colab": {
      "name": "moviereview_classification.ipynb",
      "provenance": [],
      "authorship_tag": "ABX9TyO7kpKfJbhKVURB/laQikMA",
      "include_colab_link": true
    },
    "kernelspec": {
      "name": "python3",
      "display_name": "Python 3"
    },
    "language_info": {
      "name": "python"
    }
  },
  "cells": [
    {
      "cell_type": "markdown",
      "metadata": {
        "id": "view-in-github",
        "colab_type": "text"
      },
      "source": [
        "<a href=\"https://colab.research.google.com/github/saidrishya/NLP/blob/main/moviereview_classification.ipynb\" target=\"_parent\"><img src=\"https://colab.research.google.com/assets/colab-badge.svg\" alt=\"Open In Colab\"/></a>"
      ]
    },
    {
      "cell_type": "code",
      "metadata": {
        "id": "Hmawqun55nqP"
      },
      "source": [
        "import pandas as pd\n",
        "import numpy as np"
      ],
      "execution_count": 1,
      "outputs": []
    },
    {
      "cell_type": "code",
      "metadata": {
        "colab": {
          "base_uri": "https://localhost:8080/",
          "height": 206
        },
        "id": "0sq6fuy98zJP",
        "outputId": "41136a6b-2469-4a90-a2cb-943b6342e344"
      },
      "source": [
        "data = pd.read_csv('/content/moviereviews.tsv', sep = '\\t')\n",
        "data.head()"
      ],
      "execution_count": 2,
      "outputs": [
        {
          "output_type": "execute_result",
          "data": {
            "text/html": [
              "<div>\n",
              "<style scoped>\n",
              "    .dataframe tbody tr th:only-of-type {\n",
              "        vertical-align: middle;\n",
              "    }\n",
              "\n",
              "    .dataframe tbody tr th {\n",
              "        vertical-align: top;\n",
              "    }\n",
              "\n",
              "    .dataframe thead th {\n",
              "        text-align: right;\n",
              "    }\n",
              "</style>\n",
              "<table border=\"1\" class=\"dataframe\">\n",
              "  <thead>\n",
              "    <tr style=\"text-align: right;\">\n",
              "      <th></th>\n",
              "      <th>label</th>\n",
              "      <th>review</th>\n",
              "    </tr>\n",
              "  </thead>\n",
              "  <tbody>\n",
              "    <tr>\n",
              "      <th>0</th>\n",
              "      <td>neg</td>\n",
              "      <td>how do films like mouse hunt get into theatres...</td>\n",
              "    </tr>\n",
              "    <tr>\n",
              "      <th>1</th>\n",
              "      <td>neg</td>\n",
              "      <td>some talented actresses are blessed with a dem...</td>\n",
              "    </tr>\n",
              "    <tr>\n",
              "      <th>2</th>\n",
              "      <td>pos</td>\n",
              "      <td>this has been an extraordinary year for austra...</td>\n",
              "    </tr>\n",
              "    <tr>\n",
              "      <th>3</th>\n",
              "      <td>pos</td>\n",
              "      <td>according to hollywood movies made in last few...</td>\n",
              "    </tr>\n",
              "    <tr>\n",
              "      <th>4</th>\n",
              "      <td>neg</td>\n",
              "      <td>my first press screening of 1998 and already i...</td>\n",
              "    </tr>\n",
              "  </tbody>\n",
              "</table>\n",
              "</div>"
            ],
            "text/plain": [
              "  label                                             review\n",
              "0   neg  how do films like mouse hunt get into theatres...\n",
              "1   neg  some talented actresses are blessed with a dem...\n",
              "2   pos  this has been an extraordinary year for austra...\n",
              "3   pos  according to hollywood movies made in last few...\n",
              "4   neg  my first press screening of 1998 and already i..."
            ]
          },
          "metadata": {
            "tags": []
          },
          "execution_count": 2
        }
      ]
    },
    {
      "cell_type": "code",
      "metadata": {
        "colab": {
          "base_uri": "https://localhost:8080/"
        },
        "id": "IjWIlyZe4Q8l",
        "outputId": "04aee297-a33d-4370-a9a4-28e4a1d1adf9"
      },
      "source": [
        "from sklearn.feature_extraction import text\n",
        "print(text.ENGLISH_STOP_WORDS)"
      ],
      "execution_count": 3,
      "outputs": [
        {
          "output_type": "stream",
          "text": [
            "frozenset({'less', 'interest', 'hence', 'yours', 'some', 'could', 'one', 'etc', 'no', 'whoever', 'anything', 'move', 'not', 'mostly', 'hereafter', 'hers', 'indeed', 'whereby', 'across', 'throughout', 'two', 'former', 'within', 'against', 'his', 'somehow', 'even', 'only', 'hasnt', 'de', 'none', 'couldnt', 'several', 'me', 'towards', 'thereafter', 'serious', 'ours', 'our', 'then', 'detail', 'amongst', 'ten', 'fifteen', 'wherever', 'these', 'noone', 'still', 'next', 'themselves', 'yourself', 'although', 'have', 'seemed', 'found', 'however', 'during', 'whose', 'others', 'done', 'each', 'a', 'after', 'wherein', 'much', 'un', 'until', 'her', 'show', 'becoming', 'own', 'put', 'five', 'or', 'you', 'often', 'alone', 'to', 'than', 'least', 'too', 'latterly', 'please', 'except', 'anywhere', 'do', 'cant', 'most', 'would', 'eleven', 'else', 'around', 'she', 'being', 'system', 'must', 'if', 'there', 'might', 'him', 'due', 'up', 'thence', 'yourselves', 'amount', 'when', 'bill', 'behind', 'per', 'along', 'nevertheless', 'everything', 'therein', 'without', 'over', 'go', 'seeming', 'both', 'otherwise', 'sixty', 'mill', 'should', 'herself', 'seems', 'elsewhere', 'who', 'also', 'with', 'nobody', 'very', 'made', 'front', 'something', 'nothing', 'cannot', 'am', 'give', 'eight', 'last', 'perhaps', 'the', 'describe', 'he', 'someone', 'whether', 'latter', 'itself', 'keep', 'thick', 'into', 'whenever', 'were', 'whole', 'can', 'but', 'be', 'twelve', 'your', 'therefore', 'which', 'upon', 'fire', 'an', 'call', 'namely', 'once', 'though', 'has', 'whereas', 'for', 'had', 'more', 'about', 'again', 'hundred', 'that', 'we', 'beyond', 'down', 'sometime', 'whatever', 'everyone', 'everywhere', 'here', 'beforehand', 'afterwards', 'whither', 'of', 'first', 'at', 'bottom', 'find', 'formerly', 'few', 'now', 'rather', 'on', 'because', 'already', 'always', 'get', 'back', 'name', 'their', 'nowhere', 'twenty', 'anyway', 'whence', 'may', 'beside', 'empty', 'ie', 'moreover', 'my', 'between', 'con', 'another', 'almost', 'among', 'any', 'four', 'myself', 'out', 'as', 'where', 'us', 'above', 'six', 'whereafter', 'mine', 'below', 'thereby', 'yet', 'never', 'nine', 'every', 'them', 'so', 'becomes', 'ever', 'together', 'cry', 'under', 'thin', 'meanwhile', 'become', 'inc', 'ourselves', 'well', 'hereupon', 'eg', 'those', 'fifty', 'by', 'fill', 'became', 'three', 'off', 'what', 'herein', 'since', 'amoungst', 'from', 'and', 'such', 'nor', 'many', 'why', 'before', 'i', 'same', 'anyhow', 'himself', 'are', 'co', 'they', 'in', 'onto', 'full', 'somewhere', 'been', 'third', 'will', 'see', 'besides', 'while', 'whom', 'this', 'via', 'other', 'forty', 'either', 'part', 'seem', 'further', 'thru', 'it', 'sincere', 'anyone', 'take', 'through', 'top', 'hereby', 'neither', 're', 'toward', 'its', 'all', 'sometimes', 'was', 'whereupon', 'enough', 'thus', 'thereupon', 'side', 'how', 'is', 'ltd'})\n"
          ],
          "name": "stdout"
        }
      ]
    },
    {
      "cell_type": "code",
      "metadata": {
        "id": "kE905rd74RGY"
      },
      "source": [
        "#some of the stopwords can actually be useful in the context of movie reviews\n",
        "stopwords = ['a', 'about', 'an', 'and', 'are', 'as', 'at', 'be', 'been', 'but', 'by', 'can', \\\n",
        "             'even', 'ever', 'for', 'from', 'get', 'had', 'has', 'have', 'he', 'her', 'hers', 'his', \\\n",
        "             'how', 'i', 'if', 'in', 'into', 'is', 'it', 'its', 'just', 'me', 'my', 'of', 'on', 'or', \\\n",
        "             'see', 'seen', 'she', 'so', 'than', 'that', 'the', 'their', 'there', 'they', 'this', \\\n",
        "             'to', 'was', 'we', 'were', 'what', 'when', 'which', 'who', 'will', 'with', 'you']\n",
        "             "
      ],
      "execution_count": 4,
      "outputs": []
    },
    {
      "cell_type": "code",
      "metadata": {
        "colab": {
          "base_uri": "https://localhost:8080/"
        },
        "id": "aP5NY6ec-Yqp",
        "outputId": "dec8fec3-612a-4797-c12a-304f03a2e9c9"
      },
      "source": [
        "len(data)"
      ],
      "execution_count": 5,
      "outputs": [
        {
          "output_type": "execute_result",
          "data": {
            "text/plain": [
              "2000"
            ]
          },
          "metadata": {
            "tags": []
          },
          "execution_count": 5
        }
      ]
    },
    {
      "cell_type": "code",
      "metadata": {
        "colab": {
          "base_uri": "https://localhost:8080/"
        },
        "id": "1F0xi669-cmC",
        "outputId": "0ac72afc-de06-4fdd-c30b-23a0079f98c0"
      },
      "source": [
        "print(data['review'][1])"
      ],
      "execution_count": 6,
      "outputs": [
        {
          "output_type": "stream",
          "text": [
            "some talented actresses are blessed with a demonstrated wide acting range while others , almost as gifted , have more limited types of parts for which they are suitable . \r\n",
            "as was amply evident after basic instinct , sharon stone can play sensual roles with great abandon . \r\n",
            "rejecting her natural abilities , she has spent the rest of her entire career trying with little success to play against type . \r\n",
            "gloria is her latest disaster . \r\n",
            "babe ruth didn't quit baseball after one season to play football in a quixotic quest to prove his athletic dexterity , and neither should stone reject what she does best . \r\n",
            "janeane garofalo , for example , is no less wonderful an actress because she could have never pulled off stone's part in basic instinct ; neither is stone any less talented because she couldn't do garofalo's comedic roles . \r\n",
            "gloria , directed by respected director sidney lumet and adapted by steve antin from the 1980 screenplay by john cassavetes , was not screened in advance for critics , almost always a sign that the studio isn't behind the picture . \r\n",
            "after seeing it in a nearly empty audience after it opened , it is clear why they held it from the press . \r\n",
            "it is a film more to be endured than enjoyed . \r\n",
            "as the story opens , an angry gloria ( stone ) is being released from prison after 3 years confinement . \r\n",
            "she's got a bad attitude and a big mouth . \r\n",
            "she also has a bad case of wavering and overblown new york accents , a disease suffered by much of the rest of the cast . \r\n",
            "an annoying child actor named jean-luke figueroa plays a soon-to-be orphan named nicky . \r\n",
            "just before his whole family is gunned down by hoods working for gloria's ex-boyfriend kevin ( jeremy northam ) , nicky's dad gives him a banana yellow floppy disk with secrets about kevin's operation and offers him a piece of fatherly advice . \r\n",
            " \" be a man , \" his father lectures him sternly . \r\n",
            " \" don't trust nobody . \r\n",
            "not no broads . \r\n",
            "nobody . \" \r\n",
            "most of the film's leaden dialog is delivered with the emotive power of the automated time and temperature announcements . \r\n",
            "add in the movie's almost non-existent background noise and the excruciatingly slow pacing , and you can hear the sounds of the lines falling to the ground like stones . \r\n",
            "lumet places his actors in the frames like fruit in a still life painting . \r\n",
            "they stand awkwardly mouthing the stiff sentences that pass for discourse . \r\n",
            " ( \" say you're my baby , \" kevin coos demandingly . \r\n",
            " \" i'm not gonna , \" gloria pouts back . ) \r\n",
            "the movie has a plethora of logical flaws and implausibilites . \r\n",
            "the kid rarely seems the least bit worried or scared , no matter how many people are after him with guns , trying to kill him . \r\n",
            "and in one key scene , the yellow floppy he holds is assumed to be the right disk without checking it and is further assumed never to have been copied . \r\n",
            "gloria , who keeps saying how she hates kids , takes nicky under her wing and protects him from kevin and the bad guys . \r\n",
            "think her maternal instincts will show up before the movie finally and predictably ends ? \r\n",
            "if you don't know the answer , you may be just the right viewer for this film . \r\n",
            "you have to say this for stone : she can keep a straight face . \r\n",
            "when explaining life to a 7-year-old kid , she says with utter seriousness , \" you got a lot of love making to make ; you got a lot of boozing to do . \" \r\n",
            "gloria runs 1 : 48 . \r\n",
            "it is rated r for profanity , violence and brief male nudity and would be acceptable for teenagers . \r\n",
            "\n"
          ],
          "name": "stdout"
        }
      ]
    },
    {
      "cell_type": "code",
      "metadata": {
        "colab": {
          "base_uri": "https://localhost:8080/"
        },
        "id": "l9l3BG2K9F9v",
        "outputId": "02b34880-1242-4bb8-db54-69dbe7edc768"
      },
      "source": [
        "data.isnull().sum()"
      ],
      "execution_count": 7,
      "outputs": [
        {
          "output_type": "execute_result",
          "data": {
            "text/plain": [
              "label      0\n",
              "review    35\n",
              "dtype: int64"
            ]
          },
          "metadata": {
            "tags": []
          },
          "execution_count": 7
        }
      ]
    },
    {
      "cell_type": "code",
      "metadata": {
        "id": "EVDShTnp9IW7"
      },
      "source": [
        "data.dropna(inplace=True)"
      ],
      "execution_count": 8,
      "outputs": []
    },
    {
      "cell_type": "code",
      "metadata": {
        "colab": {
          "base_uri": "https://localhost:8080/"
        },
        "id": "388KMx0Z9MfQ",
        "outputId": "c03203f3-14bd-4737-ffbe-9cd3fb80b2be"
      },
      "source": [
        "data.isnull().sum()"
      ],
      "execution_count": 9,
      "outputs": [
        {
          "output_type": "execute_result",
          "data": {
            "text/plain": [
              "label     0\n",
              "review    0\n",
              "dtype: int64"
            ]
          },
          "metadata": {
            "tags": []
          },
          "execution_count": 9
        }
      ]
    },
    {
      "cell_type": "code",
      "metadata": {
        "colab": {
          "base_uri": "https://localhost:8080/"
        },
        "id": "79nV0b_F9785",
        "outputId": "87eee3d7-39c6-4f2e-d072-74ea608aef35"
      },
      "source": [
        "#at times the reviews can be empty strings or blank spaces\n",
        "s1 = 'hi how are y9u'\n",
        "s2 = ' '\n",
        "\n",
        "s1.isspace()"
      ],
      "execution_count": 10,
      "outputs": [
        {
          "output_type": "execute_result",
          "data": {
            "text/plain": [
              "False"
            ]
          },
          "metadata": {
            "tags": []
          },
          "execution_count": 10
        }
      ]
    },
    {
      "cell_type": "code",
      "metadata": {
        "colab": {
          "base_uri": "https://localhost:8080/"
        },
        "id": "68KIenNN-Mj-",
        "outputId": "06cf1e89-ba90-4b5c-92ee-d57fc1af64cf"
      },
      "source": [
        "s2.isspace()"
      ],
      "execution_count": 11,
      "outputs": [
        {
          "output_type": "execute_result",
          "data": {
            "text/plain": [
              "True"
            ]
          },
          "metadata": {
            "tags": []
          },
          "execution_count": 11
        }
      ]
    },
    {
      "cell_type": "code",
      "metadata": {
        "id": "ZC8BN_LN-Ojj"
      },
      "source": [
        "#remove all reviews with empty spaces\n",
        "blanks = []  \n",
        "\n",
        "for index,label,review in data.itertuples(): \n",
        "    if type(review)==str:            \n",
        "        if review.isspace():         \n",
        "            blanks.append(index)     "
      ],
      "execution_count": 12,
      "outputs": []
    },
    {
      "cell_type": "code",
      "metadata": {
        "colab": {
          "base_uri": "https://localhost:8080/"
        },
        "id": "5Xv2m1c8-99B",
        "outputId": "1092970f-851e-43f7-9783-c584a856c5bc"
      },
      "source": [
        "blanks"
      ],
      "execution_count": 13,
      "outputs": [
        {
          "output_type": "execute_result",
          "data": {
            "text/plain": [
              "[57,\n",
              " 71,\n",
              " 147,\n",
              " 151,\n",
              " 283,\n",
              " 307,\n",
              " 313,\n",
              " 323,\n",
              " 343,\n",
              " 351,\n",
              " 427,\n",
              " 501,\n",
              " 633,\n",
              " 675,\n",
              " 815,\n",
              " 851,\n",
              " 977,\n",
              " 1079,\n",
              " 1299,\n",
              " 1455,\n",
              " 1493,\n",
              " 1525,\n",
              " 1531,\n",
              " 1763,\n",
              " 1851,\n",
              " 1905,\n",
              " 1993]"
            ]
          },
          "metadata": {
            "tags": []
          },
          "execution_count": 13
        }
      ]
    },
    {
      "cell_type": "code",
      "metadata": {
        "id": "EDqzNBph-_Sc"
      },
      "source": [
        "data.drop(blanks, inplace=True)"
      ],
      "execution_count": 14,
      "outputs": []
    },
    {
      "cell_type": "code",
      "metadata": {
        "colab": {
          "base_uri": "https://localhost:8080/"
        },
        "id": "J_363wrR_DDl",
        "outputId": "02c11a79-f3be-49c8-d849-1cb49d615cbc"
      },
      "source": [
        "len(data)"
      ],
      "execution_count": 15,
      "outputs": [
        {
          "output_type": "execute_result",
          "data": {
            "text/plain": [
              "1938"
            ]
          },
          "metadata": {
            "tags": []
          },
          "execution_count": 15
        }
      ]
    },
    {
      "cell_type": "code",
      "metadata": {
        "colab": {
          "base_uri": "https://localhost:8080/"
        },
        "id": "MazGPCdF_KEy",
        "outputId": "cef12e6a-b40c-4b43-8f92-b0891b5753a1"
      },
      "source": [
        "data['label'].value_counts()"
      ],
      "execution_count": 16,
      "outputs": [
        {
          "output_type": "execute_result",
          "data": {
            "text/plain": [
              "neg    969\n",
              "pos    969\n",
              "Name: label, dtype: int64"
            ]
          },
          "metadata": {
            "tags": []
          },
          "execution_count": 16
        }
      ]
    },
    {
      "cell_type": "code",
      "metadata": {
        "id": "6OgauzYe_Qlc"
      },
      "source": [
        "# split the data into train and test\n",
        "from sklearn.model_selection import train_test_split\n",
        "\n",
        "X = data['review']\n",
        "y = data['label']\n",
        "\n",
        "X_train, X_test, y_train, y_test = train_test_split(X, y, test_size=0.33, random_state=42)"
      ],
      "execution_count": 17,
      "outputs": []
    },
    {
      "cell_type": "code",
      "metadata": {
        "id": "ZOVrUv48_oWE"
      },
      "source": [
        "#build pipeline to vectorize data, train and fit the model\n",
        "from sklearn.pipeline import Pipeline\n",
        "from sklearn.feature_extraction.text import TfidfVectorizer\n",
        "from sklearn.naive_bayes import MultinomialNB\n",
        "from sklearn.svm import LinearSVC\n",
        "\n",
        "# Naïve Bayes:\n",
        "text_clf_nb = Pipeline([('tfidf', TfidfVectorizer(stop_words=stopwords)),\n",
        "                     ('clf', MultinomialNB()),\n",
        "])\n",
        "\n",
        "# Linear SVC:\n",
        "text_clf_lsvc = Pipeline([('tfidf', TfidfVectorizer(stop_words=stopwords)),\n",
        "                     ('clf', LinearSVC()),\n",
        "])"
      ],
      "execution_count": 21,
      "outputs": []
    },
    {
      "cell_type": "code",
      "metadata": {
        "id": "SaH4uzVU_yNP"
      },
      "source": [
        "text_clf_nb.fit(X_train, y_train)\n",
        "y_pred_nb = text_clf_nb.predict(X_test)"
      ],
      "execution_count": 22,
      "outputs": []
    },
    {
      "cell_type": "code",
      "metadata": {
        "colab": {
          "base_uri": "https://localhost:8080/"
        },
        "id": "uGTzmiKr_8w6",
        "outputId": "c0e0fa9c-ba03-4c74-e4bf-114b6e4c6107"
      },
      "source": [
        "from sklearn.metrics import accuracy_score, confusion_matrix, classification_report\n",
        "cm = confusion_matrix(y_test, y_pred_nb)\n",
        "ac = accuracy_score(y_test, y_pred_nb)\n",
        "classificationReport = classification_report(y_test, y_pred_nb)\n",
        "\n",
        "print(cm)\n",
        "print()\n",
        "print('Accuracy:' + str(ac))\n",
        "print()\n",
        "print(classificationReport)"
      ],
      "execution_count": 23,
      "outputs": [
        {
          "output_type": "stream",
          "text": [
            "[[282  26]\n",
            " [105 227]]\n",
            "\n",
            "Accuracy:0.7953125\n",
            "\n",
            "              precision    recall  f1-score   support\n",
            "\n",
            "         neg       0.73      0.92      0.81       308\n",
            "         pos       0.90      0.68      0.78       332\n",
            "\n",
            "    accuracy                           0.80       640\n",
            "   macro avg       0.81      0.80      0.79       640\n",
            "weighted avg       0.82      0.80      0.79       640\n",
            "\n"
          ],
          "name": "stdout"
        }
      ]
    },
    {
      "cell_type": "code",
      "metadata": {
        "id": "FzkkIiyZAXF0"
      },
      "source": [
        "# now for SVC\n",
        "text_clf_lsvc.fit(X_train, y_train)\n",
        "y_pred_lsvc = text_clf_lsvc.predict(X_test)"
      ],
      "execution_count": 24,
      "outputs": []
    },
    {
      "cell_type": "code",
      "metadata": {
        "colab": {
          "base_uri": "https://localhost:8080/"
        },
        "id": "hpH2R_Fv6BYU",
        "outputId": "f04e5d86-d9de-419d-e05b-79d43cb1eeaf"
      },
      "source": [
        "cm = confusion_matrix(y_test, y_pred_lsvc)\n",
        "ac = accuracy_score(y_test, y_pred_lsvc)\n",
        "classificationReport = classification_report(y_test, y_pred_lsvc)\n",
        "\n",
        "print(cm)\n",
        "print()\n",
        "print('Accuracy:' + str(ac))\n",
        "print()\n",
        "print(classificationReport)"
      ],
      "execution_count": 25,
      "outputs": [
        {
          "output_type": "stream",
          "text": [
            "[[256  52]\n",
            " [ 48 284]]\n",
            "\n",
            "Accuracy:0.84375\n",
            "\n",
            "              precision    recall  f1-score   support\n",
            "\n",
            "         neg       0.84      0.83      0.84       308\n",
            "         pos       0.85      0.86      0.85       332\n",
            "\n",
            "    accuracy                           0.84       640\n",
            "   macro avg       0.84      0.84      0.84       640\n",
            "weighted avg       0.84      0.84      0.84       640\n",
            "\n"
          ],
          "name": "stdout"
        }
      ]
    },
    {
      "cell_type": "code",
      "metadata": {
        "id": "xDXmSD7W6KNp"
      },
      "source": [
        ""
      ],
      "execution_count": null,
      "outputs": []
    }
  ]
}